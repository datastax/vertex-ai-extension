{
 "cells": [
  {
   "cell_type": "code",
   "execution_count": null,
   "metadata": {
    "cellView": "form",
    "id": "ur8xi4C7S06n"
   },
   "outputs": [],
   "source": [
    "#@title LICENSE\n",
    "\n",
    "# Copyright 2024 DataStax, Inc.\n",
    "#\n",
    "# Licensed under the Apache License, Version 2.0 (the \"License\");\n",
    "# you may not use this file except in compliance with the License.\n",
    "# You may obtain a copy of the License at\n",
    "#\n",
    "#     https://www.apache.org/licenses/LICENSE-2.0\n",
    "#\n",
    "# Unless required by applicable law or agreed to in writing, software\n",
    "# distributed under the License is distributed on an \"AS IS\" BASIS,\n",
    "# WITHOUT WARRANTIES OR CONDITIONS OF ANY KIND, either express or implied.\n",
    "# See the License for the specific language governing permissions and\n",
    "# limitations under the License."
   ]
  },
  {
   "cell_type": "markdown",
   "metadata": {
    "id": "tvgnzT1CKxrO"
   },
   "source": [
    "# Use Vertex AI Extensions with a Custom Extension\n",
    "\n",
    "## Overview\n",
    "\n",
    "\n",
    "Vertex AI Extensions is a platform for creating and managing extensions that connect large language models to external systems via APIs. These external systems can provide LLMs with real-time data and perform data processing actions on their behalf. You can use pre-built or third-party extensions in Vertex AI Extensions.\n",
    "\n",
    "Learn more about [Vertex AI Extensions](https://cloud.google.com/vertex-ai/docs/generative-ai/extensions/private/overview).\n",
    "\n",
    "This notebook provides a simple getting started experience for the Vertex AI Extensions framework. This guide assumes that you are familiar with the Vertex AI Python SDK, [LangChain](https://python.langchain.com/docs/get_started/introduction), [OpenAPI specification](https://swagger.io/specification/), and [Cloud Run](https://cloud.google.com/run/docs).\n",
    "\n",
    "### Objective\n",
    "\n",
    "In this tutorial, you learn how to create an extension service backend on Cloud Run, register the extension with Vertex, and then use the extension in an application.\n",
    "\n",
    "The steps performed include:\n",
    "\n",
    "- Creating a simple service running on Cloud Run\n",
    "- Creating an OpenAPI 3.1 YAML file for the Cloud Run service\n",
    "- Registering the service as an extension with Vertex AI\n",
    "- Using the extension to respond to user queries\n",
    "- Integrate LangChain into the reasoning for an extension\n",
    "\n",
    "### Additional Information\n",
    "\n",
    "This tutorial uses the following Google Cloud services and resources:\n",
    "\n",
    "- Vertex AI Extensions\n",
    "- Cloud Run\n",
    "\n",
    "**_NOTE_**: This notebook has been tested in the following environment:\n",
    "\n",
    "* Python version = 3.11"
   ]
  },
  {
   "cell_type": "markdown",
   "metadata": {
    "id": "n2OYMHXO8gjT"
   },
   "source": [
    "### Authenticate your Google Cloud account\n",
    "\n",
    "You must authenticate to Google Cloud to begin."
   ]
  },
  {
   "cell_type": "code",
   "execution_count": null,
   "metadata": {
    "id": "603adbbf0532"
   },
   "outputs": [],
   "source": [
    "import sys\n",
    "\n",
    "if \"google.colab\" in sys.modules:\n",
    "    # Authenticate user to Google Cloud\n",
    "    from google.colab import auth\n",
    "    auth.authenticate_user()"
   ]
  },
  {
   "cell_type": "markdown",
   "metadata": {
    "id": "i7EUnXsZhAGF"
   },
   "source": [
    "### Installation\n",
    "\n",
    "This tutorial the latest Python SDK for Vertex AI.\n",
    "\n",
    "Run the following command to download the SDK:"
   ]
  },
  {
   "cell_type": "code",
   "execution_count": null,
   "metadata": {
    "id": "A1MlayQHghLz"
   },
   "outputs": [],
   "source": [
    "%pip install -U \"google-cloud-aiplatform\" \\\n",
    "\"openapi-schema-pydantic==1.2.4\" \\\n",
    "\"openapi-pydantic==0.3.2\" \\\n",
    "\"google-cloud-storage\" \\\n",
    "\"shapely<2\""
   ]
  },
  {
   "cell_type": "markdown",
   "metadata": {
    "id": "WReHDGG5g0XY"
   },
   "source": [
    "## Before you begin\n",
    "\n",
    "### Set up your Google Cloud project\n",
    "\n",
    "**The following steps are required, regardless of your notebook environment.**\n",
    "\n",
    "1. [Select or create a Google Cloud project](https://console.cloud.google.com/cloud-resource-manager). When you first create an account, you get a $300 free credit towards your compute/storage costs.\n",
    "1. [Make sure that billing is enabled for your project](https://cloud.google.com/billing/docs/how-to/modify-project).\n",
    "1. [Enable the Vertex AI API](https://console.cloud.google.com/flows/enableapi?apiid=aiplatform.googleapis.com).\n",
    "1. If you are running this notebook locally, you need to install the [Cloud SDK](https://cloud.google.com/sdk).\n",
    "1. Your project must also be allowlisted for the Vertex AI Extension Private Preview.\n",
    "1. This notebook requires that you have the following permissions for your GCP project:\n",
    "- `roles/aiplatform.user`\n",
    "\n",
    "### Set your project ID\n",
    "\n",
    "**If you don't know your project ID**, try the following:\n",
    "* Run `gcloud config list`.\n",
    "* Run `gcloud projects list`.\n",
    "* See the support page: [Locate the project ID](https://support.google.com/googleapi/answer/7014113)"
   ]
  },
  {
   "cell_type": "code",
   "execution_count": null,
   "metadata": {},
   "outputs": [],
   "source": [
    "PROJECT_ID = \"[PROJECT_ID]\"  # @param {type:\"string\"}\n",
    "\n",
    "# Set the project id\n",
    "!gcloud config set project {PROJECT_ID}"
   ]
  },
  {
   "cell_type": "markdown",
   "metadata": {
    "id": "region"
   },
   "source": [
    "### Region\n",
    "\n",
    "You can also change the `REGION` variable used by Vertex AI. Learn more about [Vertex AI regions](https://cloud.google.com/vertex-ai/docs/general/locations)."
   ]
  },
  {
   "cell_type": "code",
   "execution_count": null,
   "metadata": {},
   "outputs": [],
   "source": [
    "REGION = \"us-central1\"  # @param {type: \"string\"}"
   ]
  },
  {
   "cell_type": "markdown",
   "metadata": {
    "id": "zgPO1eR3CYjk"
   },
   "source": [
    "### Create a Cloud Storage bucket\n",
    "\n",
    "Create a storage bucket to store intermediate artifacts such as datasets."
   ]
  },
  {
   "cell_type": "code",
   "execution_count": null,
   "metadata": {
    "id": "MzGDU7TWdts_"
   },
   "outputs": [],
   "source": [
    "BUCKET_NAME = \"[BUCKET_NAME]\"  # @param {type:\"string\"}\n",
    "BUCKET_URI = f\"gs://{BUCKET_NAME}\""
   ]
  },
  {
   "cell_type": "markdown",
   "metadata": {
    "id": "-EcIXiGsCePi"
   },
   "source": [
    "**Only if your bucket doesn't already exist**: Run the following cell to create your Cloud Storage bucket."
   ]
  },
  {
   "cell_type": "code",
   "execution_count": null,
   "metadata": {
    "id": "NIq7R4HZCfIc"
   },
   "outputs": [],
   "source": [
    "!gsutil mb -l $REGION -p $PROJECT_ID $BUCKET_URI"
   ]
  },
  {
   "cell_type": "markdown",
   "metadata": {
    "id": "960505627ddf"
   },
   "source": [
    "### Import libraries\n",
    "\n"
   ]
  },
  {
   "cell_type": "code",
   "execution_count": null,
   "metadata": {
    "id": "PyQmSRbKA8r-"
   },
   "outputs": [],
   "source": [
    "import vertexai\n",
    "\n",
    "from google.cloud.aiplatform import llm_extension"
   ]
  },
  {
   "cell_type": "markdown",
   "metadata": {
    "id": "init_aip:mbsdk,all"
   },
   "source": [
    "### Initialize Vertex AI SDK for Python\n",
    "\n",
    "Initialize the Vertex AI SDK for Python for your project."
   ]
  },
  {
   "cell_type": "code",
   "execution_count": null,
   "metadata": {
    "id": "ABew50yughL0"
   },
   "outputs": [],
   "source": [
    "vertexai.init(project=PROJECT_ID, location=REGION, staging_bucket=BUCKET_URI)"
   ]
  },
  {
   "cell_type": "markdown",
   "metadata": {
    "id": "rkjLDSj2ghL0"
   },
   "source": [
    "## Creating an API backend service\n",
    "\n",
    "In this tutorial, you will create and deploy the Astra DB CRUD Extension to Google Cloud Run, with authentication. Note that the backend service can be deployed outside of Cloud Run as well, but we will assume that you're using Cloud Run in this tutorial\n",
    "\n",
    "### Deploy the API service to Cloud Run\n",
    "\n",
    "First, we define the path of the extension for future use"
   ]
  },
  {
   "cell_type": "code",
   "execution_count": null,
   "metadata": {
    "id": "4JebL18KghL1"
   },
   "outputs": [],
   "source": [
    "EXTENSION_PATH = \"../astra-crud-extension\""
   ]
  },
  {
   "cell_type": "markdown",
   "metadata": {
    "id": "raX4unoGuSEY"
   },
   "source": [
    "Next, you deploy the service to Cloud Run. However, you might need to log in once more to deploy."
   ]
  },
  {
   "cell_type": "code",
   "execution_count": null,
   "metadata": {
    "id": "leotFWZxFUWd"
   },
   "outputs": [],
   "source": [
    "!gcloud auth login"
   ]
  },
  {
   "cell_type": "code",
   "execution_count": null,
   "metadata": {
    "id": "2kXRKtqtghL6"
   },
   "outputs": [],
   "source": [
    "!gcloud run deploy astra-crud-extension --region=us-central1 --allow-unauthenticated --source ../astra-crud-extension --no-user-output-enabled"
   ]
  },
  {
   "cell_type": "markdown",
   "metadata": {},
   "source": [
    "List the most recent Cloud Run service that was deployed, then you'll copy its URL to the next cell:"
   ]
  },
  {
   "cell_type": "code",
   "execution_count": null,
   "metadata": {},
   "outputs": [],
   "source": [
    "!gcloud run services list"
   ]
  },
  {
   "cell_type": "code",
   "execution_count": null,
   "metadata": {
    "id": "zccCypM1ghL6"
   },
   "outputs": [],
   "source": [
    "# @title Copy paste the output from the previous command here\n",
    "service_url = \"[SERVICE_URL]\"  # @param {type:\"string\"}"
   ]
  },
  {
   "cell_type": "markdown",
   "metadata": {
    "id": "WOmsbUSvghL7"
   },
   "source": [
    "### Create an OpenAPI spec\n",
    "\n",
    "Your Vertex Extension requires an OpenAPI 3.1 YAML file that defines routes, URL, HTTP methods, requests, and responses from your \"backend\" service. The following code creates a YAML file that you need to upload to your Cloud Storage bucket."
   ]
  },
  {
   "cell_type": "code",
   "execution_count": null,
   "metadata": {
    "id": "S_HhQerxghL7"
   },
   "outputs": [],
   "source": [
    "openapi_yaml = f\"\"\"\n",
    "openapi: 3.1.0\n",
    "info:\n",
    "  title: Astra Vertex Extension\n",
    "  description: An extension to perform CRUD actions on data within your Astra Database.\n",
    "  version: 1.0.0\n",
    "servers:\n",
    "  - url: '{service_url}'\n",
    "paths:\n",
    "  /health:\n",
    "    get:\n",
    "      operationId: health\n",
    "      summary: A simple health check endpoint\n",
    "      responses:\n",
    "        '200':\n",
    "          description: Successful response\n",
    "          content:\n",
    "            application/json:\n",
    "              schema:\n",
    "                type: object\n",
    "                properties:\n",
    "                  message:\n",
    "                    type: string\n",
    "  /readData:\n",
    "    post:\n",
    "      operationId: readData\n",
    "      summary: Search for data within the database using a filter\n",
    "      requestBody:\n",
    "        required: true\n",
    "        content:\n",
    "          application/json:\n",
    "            schema:\n",
    "              type: object\n",
    "              properties:\n",
    "                filter:\n",
    "                  type: object\n",
    "                  description: Key-value pairs to filter the data\n",
    "      responses:\n",
    "        '200':\n",
    "          description: Successful response\n",
    "          content:\n",
    "            application/json:\n",
    "              schema:\n",
    "                type: array\n",
    "                items:\n",
    "                  type: object\n",
    "  /updateData:\n",
    "    post:\n",
    "      operationId: updateData\n",
    "      summary: Update existing data within the database\n",
    "      requestBody:\n",
    "        required: true\n",
    "        content:\n",
    "          application/json:\n",
    "            schema:\n",
    "              type: object\n",
    "              properties:\n",
    "                filter:\n",
    "                  type: object\n",
    "                fieldUpdate:\n",
    "                  type: object\n",
    "      responses:\n",
    "        '200':\n",
    "          description: Data updated successfully\n",
    "          content:\n",
    "            application/json:\n",
    "              schema:\n",
    "                type: array\n",
    "                items:\n",
    "                  type: object\n",
    "  /insertData:\n",
    "    post:\n",
    "      operationId: insertData\n",
    "      summary: Insert new data into the database\n",
    "      requestBody:\n",
    "        required: true\n",
    "        content:\n",
    "          application/json:\n",
    "            schema:\n",
    "              type: object\n",
    "              properties:\n",
    "                data:\n",
    "                  type: array\n",
    "                  items:\n",
    "                    type: object\n",
    "      responses:\n",
    "        '200':\n",
    "          description: Data inserted successfully\n",
    "          content:\n",
    "            application/json:\n",
    "              schema:\n",
    "                type: array\n",
    "                items:\n",
    "                  type: object\n",
    "  /deleteData:\n",
    "    post:\n",
    "      operationId: deleteData\n",
    "      summary: Delete existing data within the database\n",
    "      requestBody:\n",
    "        required: true\n",
    "        content:\n",
    "          application/json:\n",
    "            schema:\n",
    "              type: object\n",
    "              properties:\n",
    "                filter:\n",
    "                  type: object\n",
    "      responses:\n",
    "        '200':\n",
    "          description: Data deleted successfully\n",
    "          content:\n",
    "            application/json:\n",
    "              schema:\n",
    "                type: array\n",
    "                items:\n",
    "                  type: object\n",
    "\"\"\"\n",
    "\n",
    "print(openapi_yaml)"
   ]
  },
  {
   "cell_type": "code",
   "execution_count": null,
   "metadata": {
    "id": "DjOGjGLighL7"
   },
   "outputs": [],
   "source": [
    "%store openapi_yaml >../astra-crud-extension-api/extension.yaml"
   ]
  },
  {
   "cell_type": "markdown",
   "metadata": {
    "id": "5bysxsgLghL7"
   },
   "source": [
    "Upload the OpenAPI YAML to your Cloud Storage bucket."
   ]
  },
  {
   "cell_type": "code",
   "execution_count": null,
   "metadata": {
    "id": "z5PWKGnmghL7"
   },
   "outputs": [],
   "source": [
    "from google.cloud import storage\n",
    "\n",
    "storage_client = storage.Client()\n",
    "bucket = storage_client.bucket(BUCKET_NAME)\n",
    "blob_name = f\"{EXTENSION_PATH}/extension.yaml\"\n",
    "blob = bucket.blob(blob_name)\n",
    "blob.upload_from_filename(f\"{EXTENSION_PATH}-api/extension.yaml\")"
   ]
  },
  {
   "cell_type": "markdown",
   "metadata": {
    "id": "o6DJJOt8ghL7"
   },
   "source": [
    "### Test the service locally\n",
    "\n",
    "First, check that your service can accept simple HTTP `GET` requests. We will use the `moviereviews` table that gets created when loading sample data into an Astra DB instance. \n",
    "\n",
    "First, set your DATASTAX_VERTEX_AI_TOKEN as the concatenation of your ASTRA_DB_APPLICATION_TOKEN, ASTRA_DB_API_ENDPOINT, and ASTRA_DB_TABLE (see the README for more details)"
   ]
  },
  {
   "cell_type": "code",
   "execution_count": null,
   "metadata": {
    "id": "Ju2KQKc7rNqi"
   },
   "outputs": [],
   "source": [
    "DATASTAX_VERTEX_AI_TOKEN = \"AstraCS:<...>;https://<...>.apps.astra.datastax.com;moviereviews\"  # @param {type: \"string\"}"
   ]
  },
  {
   "cell_type": "code",
   "execution_count": null,
   "metadata": {},
   "outputs": [],
   "source": [
    "import requests\n",
    "\n",
    "r = requests.post(service_url + \"/readData\", json={}, headers = {\"token\": DATASTAX_VERTEX_AI_TOKEN})\n",
    "\n",
    "print(f\"Status Code: {r.status_code}, Content: {r.text}\")"
   ]
  },
  {
   "cell_type": "markdown",
   "metadata": {
    "id": "WLkzvkdUghL8"
   },
   "source": [
    "## Creating and using a custom extension\n",
    "\n",
    "### Create the extension\n",
    "\n",
    "Now that you've set up the service to fulfill extension requests, you can create the extension itself."
   ]
  },
  {
   "cell_type": "code",
   "execution_count": null,
   "metadata": {
    "id": "NgPF-bEhghL8"
   },
   "outputs": [],
   "source": [
    "SECRET_ID = \"DATASTAX_VERTEX_AI_TOKEN\"\n",
    "\n",
    "extension_astra = llm_extension.Extension.create(\n",
    "    display_name = \"Perform a CRUD Operation on Astra DB\",\n",
    "    description = \"Inserts, loads, updates, or deletes data from Astra DB and returns it to the user\",\n",
    "    manifest = {\n",
    "        \"name\": \"astra_tool\",\n",
    "        \"description\": \"Access and process data from AstraDB\",\n",
    "        \"api_spec\": {\n",
    "            \"open_api_gcs_uri\": f\"gs://{BUCKET_NAME}/{EXTENSION_PATH}/extension.yaml\"\n",
    "        },\n",
    "        \"authConfig\": {\n",
    "            \"authType\": \"API_KEY_AUTH\",\n",
    "            \"apiKeyConfig\": {\n",
    "                \"name\": \"token\",\n",
    "                \"apiKeySecret\": f\"projects/{PROJECT_ID}/secrets/{SECRET_ID}/versions/latest\",\n",
    "                \"httpElementLocation\": \"HTTP_IN_HEADER\",\n",
    "            },\n",
    "        }\n",
    "    },\n",
    ")\n",
    "\n",
    "extension_astra"
   ]
  },
  {
   "cell_type": "markdown",
   "metadata": {},
   "source": [
    "Now that you've create your extension, let's confirm that it's registered:"
   ]
  },
  {
   "cell_type": "code",
   "execution_count": null,
   "metadata": {
    "id": "0gQPqLe5aNiK"
   },
   "outputs": [],
   "source": [
    "print(\"Name:\", extension_astra.gca_resource.name)\n",
    "print(\"Display Name:\", extension_astra.display_name)\n",
    "print(\"Description:\", extension_astra.gca_resource.description)\n",
    "\n",
    "print(extension_astra.to_dict())"
   ]
  },
  {
   "cell_type": "markdown",
   "metadata": {},
   "source": [
    "And you can test the functionality of the extension by executing it:"
   ]
  },
  {
   "cell_type": "code",
   "execution_count": null,
   "metadata": {},
   "outputs": [],
   "source": [
    "extension_astra.execute(\"health\", operation_params={})"
   ]
  },
  {
   "cell_type": "code",
   "execution_count": null,
   "metadata": {},
   "outputs": [],
   "source": [
    "extension_astra.execute(\"readData\",\n",
    "    operation_params = {},\n",
    ")"
   ]
  }
 ],
 "metadata": {
  "colab": {
   "provenance": []
  },
  "environment": {
   "kernel": "conda-root-py",
   "name": "workbench-notebooks.m111",
   "type": "gcloud",
   "uri": "gcr.io/deeplearning-platform-release/workbench-notebooks:m111"
  },
  "kernelspec": {
   "display_name": "Python 3 (ipykernel)",
   "language": "python",
   "name": "python3"
  },
  "language_info": {
   "codemirror_mode": {
    "name": "ipython",
    "version": 3
   },
   "file_extension": ".py",
   "mimetype": "text/x-python",
   "name": "python",
   "nbconvert_exporter": "python",
   "pygments_lexer": "ipython3",
   "version": "3.11.6"
  }
 },
 "nbformat": 4,
 "nbformat_minor": 4
}
