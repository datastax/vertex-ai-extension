{
 "cells": [
  {
   "cell_type": "code",
   "execution_count": 1,
   "metadata": {
    "cellView": "form",
    "id": "ur8xi4C7S06n"
   },
   "outputs": [],
   "source": [
    "#@title LICENSE\n",
    "\n",
    "# Copyright 2023 Google LLC\n",
    "#\n",
    "# Licensed under the Apache License, Version 2.0 (the \"License\");\n",
    "# you may not use this file except in compliance with the License.\n",
    "# You may obtain a copy of the License at\n",
    "#\n",
    "#     https://www.apache.org/licenses/LICENSE-2.0\n",
    "#\n",
    "# Unless required by applicable law or agreed to in writing, software\n",
    "# distributed under the License is distributed on an \"AS IS\" BASIS,\n",
    "# WITHOUT WARRANTIES OR CONDITIONS OF ANY KIND, either express or implied.\n",
    "# See the License for the specific language governing permissions and\n",
    "# limitations under the License."
   ]
  },
  {
   "cell_type": "markdown",
   "metadata": {
    "id": "tvgnzT1CKxrO"
   },
   "source": [
    "# Use Vertex AI Extensions with API Key Authentication\n",
    "\n",
    "## Overview\n",
    "\n",
    "Vertex AI Extensions is a platform for creating and managing extensions that connect large language models to external systems via APIs. These external systems can provide LLMs with real-time data and perform data processing actions on their behalf. You can use pre-built or third-party extensions in Vertex AI Extensions.\n",
    "\n",
    "Learn more about [Vertex AI Extensions](https://cloud.google.com/vertex-ai/docs/generative-ai/extensions/private/overview).\n",
    "\n",
    "This notebook provides guidance on how to build a Vertex AI Extension that requires authentication to an external service. This guide assumes that you are familiar with the Vertex AI Python SDK, [OpenAPI specification](https://swagger.io/specification/), the [Google Maps Places API](https://developers.google.com/maps/documentation/places/web-service/search), and [Cloud Secret Manager](https://cloud.google.com/secret-manager/docs).\n",
    "\n",
    "### Objective\n",
    "\n",
    "In this tutorial, you'll learn how to create a secret on Secret Manager, create an extension service backend on Cloud Run, and register the extension with Vertex AI Extensions.\n",
    "\n",
    "The steps performed include:\n",
    "\n",
    "- Storing a secret on Cloud Secret Manager\n",
    "- Use Google Maps as an extension tool\n",
    "- Creating an OpenAPI 3.1 YAML file for the external services\n",
    "- Registering the extension with Vertex AI\n",
    "- Verify the behavior of the extension\n",
    "\n",
    "### Additional information\n",
    "\n",
    "This tutorial uses the following Google services and resources:\n",
    "\n",
    "- Vertex AI Extensions\n",
    "- Cloud API Key API\n",
    "- Cloud Secret Manager\n",
    "- Google Maps Places API\n",
    "\n",
    "**_NOTE_**: This notebook has been tested in the following environment:\n",
    "\n",
    "* Python version = 3.11"
   ]
  },
  {
   "cell_type": "markdown",
   "metadata": {
    "id": "sBCra4QMA2wR"
   },
   "source": [
    "### Authenticate your Google Cloud account\n",
    "\n",
    "You must authenticate to Google Cloud to access the pre-release version of the Python SDK and the Vertex AI Extensions feature."
   ]
  },
  {
   "cell_type": "code",
   "execution_count": 7,
   "metadata": {
    "id": "603adbbf0532"
   },
   "outputs": [],
   "source": [
    "import sys\n",
    "\n",
    "if \"google.colab\" in sys.modules:\n",
    "    # Authenticate user to Google Cloud\n",
    "    from google.colab import auth\n",
    "    auth.authenticate_user()"
   ]
  },
  {
   "cell_type": "markdown",
   "metadata": {
    "id": "i7EUnXsZhAGF"
   },
   "source": [
    "### Installation\n",
    "\n",
    "This tutorial requires a pre-release version of the Python SDK for Vertex AI. You must be logged in with credentials that are registered for the Vertex AI Extensions Private Preview.\n",
    "\n",
    "Run the following command to download the library as a wheel from a Cloud Storage bucket:"
   ]
  },
  {
   "cell_type": "code",
   "execution_count": 2,
   "metadata": {},
   "outputs": [],
   "source": [
    "!gsutil cp gs://vertex_sdk_private_releases/llm_extension/google_cloud_aiplatform-1.39.dev20231219+llm.extension-py2.py3-none-any.whl ."
   ]
  },
  {
   "cell_type": "markdown",
   "metadata": {},
   "source": [
    "Then, install the following packages required to execute this notebook:"
   ]
  },
  {
   "cell_type": "code",
   "execution_count": 3,
   "metadata": {
    "id": "A1MlayQHghLz"
   },
   "outputs": [],
   "source": [
    "!pip install --force-reinstall --quiet google_cloud_aiplatform-1.39.dev20231219+llm.extension-py2.py3-none-any.whl\n",
    "!pip install --upgrade --quiet google-cloud-api-keys \\\n",
    "google-cloud-iam \\\n",
    "google-cloud-resource-manager \\\n",
    "google-cloud-secret-manager \\\n",
    "google-cloud-storage \\\n",
    "\"shapely<2\""
   ]
  },
  {
   "cell_type": "markdown",
   "metadata": {
    "id": "SlJEDcSr8g_a"
   },
   "source": [
    "Restart the kernel after installing packages:"
   ]
  },
  {
   "cell_type": "code",
   "execution_count": 4,
   "metadata": {
    "id": "f200f10a1da3"
   },
   "outputs": [],
   "source": [
    "import IPython\n",
    "app = IPython.Application.instance()\n",
    "app.kernel.do_shutdown(True)"
   ]
  },
  {
   "cell_type": "markdown",
   "metadata": {
    "id": "sH7lmt4siTk-"
   },
   "source": [
    "Install all other requirements."
   ]
  },
  {
   "cell_type": "markdown",
   "metadata": {
    "id": "AnV-Q1A08g_X"
   },
   "source": [
    "## Before you begin\n",
    "\n",
    "### Set up your Google Cloud project\n",
    "\n",
    "**The following steps are required, regardless of your notebook environment.**\n",
    "\n",
    "1. [Select or create a Google Cloud project](https://console.cloud.google.com/cloud-resource-manager). When you first create an account, you get a $300 free credit towards your compute/storage costs.\n",
    "1. [Make sure that billing is enabled for your project](https://cloud.google.com/billing/docs/how-to/modify-project).\n",
    "1. [Enable the Vertex AI API](https://console.cloud.google.com/flows/enableapi?apiid=aiplatform.googleapis.com).\n",
    "1. If you are running this notebook locally, you need to install the [Cloud SDK](https://cloud.google.com/sdk).\n",
    "1. Your project must also be allowlisted for the Vertex AI Extension Private Preview.\n",
    "1. This notebook requires that you have the following permissions for your GCP project:\n",
    "- `roles/aiplatform.user`\n",
    "\n",
    "### Set your project ID\n",
    "\n",
    "**If you don't know your project ID**, try the following:\n",
    "* Run `gcloud config list`.\n",
    "* Run `gcloud projects list`.\n",
    "* See the support page: [Locate the project ID](https://support.google.com/googleapi/answer/7014113)"
   ]
  },
  {
   "cell_type": "code",
   "execution_count": 5,
   "metadata": {
    "id": "oM1iC_MfAts1"
   },
   "outputs": [],
   "source": [
    "PROJECT_ID = \"your-project-id\"  # @param {type:\"string\"}"
   ]
  },
  {
   "cell_type": "markdown",
   "metadata": {
    "id": "region"
   },
   "source": [
    "### Region\n",
    "\n",
    "You can also change the `REGION` variable used by Vertex AI. Learn more about [Vertex AI regions](https://cloud.google.com/vertex-ai/docs/general/locations)."
   ]
  },
  {
   "cell_type": "code",
   "execution_count": 6,
   "metadata": {
    "id": "wY4eQIP6ghLx"
   },
   "outputs": [],
   "source": [
    "REGION = \"us-central1\"  # @param {type: \"string\"}"
   ]
  },
  {
   "cell_type": "markdown",
   "metadata": {
    "id": "zgPO1eR3CYjk"
   },
   "source": [
    "### Create a Cloud Storage bucket\n",
    "\n",
    "Create a storage bucket to store intermediate artifacts such as datasets."
   ]
  },
  {
   "cell_type": "code",
   "execution_count": 8,
   "metadata": {
    "id": "MzGDU7TWdts_"
   },
   "outputs": [],
   "source": [
    "BUCKET_NAME = \"your-bucket-name\"  # @param {type:\"string\"}\n",
    "BUCKET_URI = f\"gs://{BUCKET_NAME}\"\n",
    "extensions_prefix = \"extension\""
   ]
  },
  {
   "cell_type": "markdown",
   "metadata": {
    "id": "-EcIXiGsCePi"
   },
   "source": [
    "**Only if your bucket doesn't already exist**: Run the following cell to create your Cloud Storage bucket."
   ]
  },
  {
   "cell_type": "code",
   "execution_count": 9,
   "metadata": {
    "id": "NIq7R4HZCfIc"
   },
   "outputs": [
    {
     "name": "stdout",
     "output_type": "stream",
     "text": [
      "Creating gs://vertex-ai-extensions-koverholt/...\n",
      "ServiceException: 409 A Cloud Storage bucket named 'vertex-ai-extensions-koverholt' already exists. Try another name. Bucket names must be globally unique across all Google Cloud projects, including those outside of your organization.\n"
     ]
    }
   ],
   "source": [
    "!gsutil mb -l $REGION -p $PROJECT_ID $BUCKET_URI"
   ]
  },
  {
   "cell_type": "markdown",
   "metadata": {
    "id": "960505627ddf"
   },
   "source": [
    "### Import libraries\n",
    "\n"
   ]
  },
  {
   "cell_type": "code",
   "execution_count": 10,
   "metadata": {
    "id": "PyQmSRbKA8r-"
   },
   "outputs": [],
   "source": [
    "import base64\n",
    "import os\n",
    "\n",
    "import vertexai\n",
    "from google.cloud.aiplatform.private_preview import llm_extension\n",
    "\n",
    "from google.cloud import api_keys_v2\n",
    "from google.cloud import resourcemanager_v3\n",
    "from google.cloud import secretmanager\n",
    "from google.cloud import storage\n",
    "\n",
    "from google.iam import v1 as iam"
   ]
  },
  {
   "cell_type": "markdown",
   "metadata": {
    "id": "init_aip:mbsdk,all"
   },
   "source": [
    "### Initialize Vertex AI SDK for Python\n",
    "\n",
    "Initialize the Vertex AI SDK for Python for your project."
   ]
  },
  {
   "cell_type": "code",
   "execution_count": 11,
   "metadata": {
    "id": "ABew50yughL0"
   },
   "outputs": [],
   "source": [
    "vertexai.init(project=PROJECT_ID, location=REGION, staging_bucket=BUCKET_URI)"
   ]
  },
  {
   "cell_type": "markdown",
   "metadata": {
    "id": "BvEbFRi_5nSn"
   },
   "source": [
    "## Create and store an API key\n",
    "\n",
    "Working with HTTP authentication that requires an API key, the Vertex AI Extensions framework integrates with Secret Manager for secret storage and access. The Vertex AI Extension platform does not store the secret data directly; instead, users must manage the lifecycle of their Secret Manager resources."
   ]
  },
  {
   "cell_type": "markdown",
   "metadata": {
    "id": "owEavjZH5nSo"
   },
   "source": [
    "### Create an API key for use with Google Maps\n",
    "\n",
    "To demonstrate how to use an API key with Vertex AI Extensions, this notebook shows how to call into the Google Maps API. You must create an API key to authenticate with the Google Maps API.\n",
    "\n",
    "You can learn more about how to get an API key for Google Maps on [this page](https://developers.google.com/maps/documentation/places/web-service/get-api-key)."
   ]
  },
  {
   "cell_type": "code",
   "execution_count": 12,
   "metadata": {
    "id": "yKEs2iZUBNL2"
   },
   "outputs": [
    {
     "name": "stdout",
     "output_type": "stream",
     "text": [
      "Updated property [core/project].\n"
     ]
    }
   ],
   "source": [
    "# Log into your Google Cloud account.\n",
    "# Follow the directions printed to the cell output.\n",
    "!gcloud auth application-default login\n",
    "\n",
    "# Set the project ID\n",
    "!gcloud config set project {PROJECT_ID}"
   ]
  },
  {
   "cell_type": "code",
   "execution_count": 13,
   "metadata": {
    "id": "ZGXydzhV5nSo"
   },
   "outputs": [
    {
     "name": "stdout",
     "output_type": "stream",
     "text": [
      "API key resource name: projects/964731510884/locations/global/keys/4caf1e5d-01e1-4c2d-866f-b2846736f5bb\n"
     ]
    }
   ],
   "source": [
    "KEY_ID = \"vertex-extensions\"\n",
    "\n",
    "api_key_client = api_keys_v2.ApiKeysClient()\n",
    "key = api_keys_v2.Key()\n",
    "key.display_name = \"My key for Vertex Extensions\"\n",
    "\n",
    "api_target = api_keys_v2.ApiTarget()\n",
    "api_target.service = \"places-backend.googleapis.com\"\n",
    "\n",
    "restrictions = api_keys_v2.Restrictions()\n",
    "restrictions.api_targets = [api_target]\n",
    "key.restrictions = restrictions\n",
    "\n",
    "request = api_keys_v2.CreateKeyRequest()\n",
    "request.parent = f\"projects/{PROJECT_ID}/locations/global\"\n",
    "request.key = key\n",
    "\n",
    "key_response = api_key_client.create_key(request=request).result()\n",
    "print(f\"API key resource name: {key_response.name}\")"
   ]
  },
  {
   "cell_type": "markdown",
   "metadata": {
    "id": "FutecSmh5nSo"
   },
   "source": [
    "Note that it is not a best practice to print API keys in a production environment."
   ]
  },
  {
   "cell_type": "code",
   "execution_count": 14,
   "metadata": {
    "id": "fFc4Nwq25nSo"
   },
   "outputs": [],
   "source": [
    "api_key_string = key_response.key_string"
   ]
  },
  {
   "cell_type": "markdown",
   "metadata": {
    "id": "7wof7BSW5nSo"
   },
   "source": [
    "### Store the API key in Secret Manager\n",
    "\n",
    "Now that you have the API key, you can store it in Secret Manager for use with Vertex AI Extensions"
   ]
  },
  {
   "cell_type": "code",
   "execution_count": 15,
   "metadata": {
    "id": "klhvT_pM5nSp"
   },
   "outputs": [],
   "source": [
    "SECRET_ID = \"vertex-extensions-secret\"\n",
    "\n",
    "secret_manager_client = secretmanager.SecretManagerServiceClient()\n",
    "parent = f\"projects/{PROJECT_ID}\"\n",
    "\n",
    "secret = secret_manager_client.create_secret(\n",
    "    request={\n",
    "        \"parent\": parent,\n",
    "        \"secret_id\": SECRET_ID,\n",
    "        \"secret\": {\"replication\": {\"automatic\": {}}},\n",
    "    }\n",
    ")"
   ]
  },
  {
   "cell_type": "code",
   "execution_count": 16,
   "metadata": {
    "id": "8Cd8D7QW5nSp"
   },
   "outputs": [],
   "source": [
    "api_key_bytes = api_key_string.encode(\"ascii\")\n",
    "\n",
    "version = secret_manager_client.add_secret_version(\n",
    "    request={\"parent\": secret.name, \"payload\": {\"data\": api_key_bytes}}\n",
    ")"
   ]
  },
  {
   "cell_type": "code",
   "execution_count": 17,
   "metadata": {
    "id": "I5s7vgwR5nSp"
   },
   "outputs": [],
   "source": [
    "# Verify that you can access the secret.\n",
    "response = secret_manager_client.access_secret_version(request={\"name\": version.name})\n",
    "stored_b64_key = response.payload.data\n",
    "round_tripped_key = stored_b64_key.decode('ascii')\n",
    "\n",
    "assert api_key_string == round_tripped_key"
   ]
  },
  {
   "cell_type": "markdown",
   "metadata": {
    "id": "VLmNGJvS5nSp"
   },
   "source": [
    "### Allow the Vertex AI service account to access Secret Manager\n",
    "\n",
    "Now that you have your API key stored in Secret Manager, you must permit Vertex AI to access your secret. To do this, you must assign the Secret Manager Secret Accessor role, `roles/secretmanager.secretAccessor`, to the service account used by Vertex AI. The service account used by Vertex AI usually has an ID in the following format:\n",
    "\n",
    "```\n",
    "service-[PROJECT_NUMBER]@gcp-sa-aiplatform.iam.gserviceaccount.com\n",
    "```"
   ]
  },
  {
   "cell_type": "markdown",
   "metadata": {
    "id": "sEZ3sLHS5nSq"
   },
   "source": [
    "<div style=\"background-color:rgb(235,186,52); padding:5px; color:rgb(105, 83, 23);\"><strong>WARNING:</strong> The following cells use the <span style=\"font-family:'Courier'\">resourcemanager.ProjectsClient.set_iam_policy()</span> to grant a role to a service account. The <span style=\"font-family:'Courier'\">set_iam_policy()</span> method can potentially delete all of the bindings in your Google Cloud project's policy. If you prefer to use the Google Cloud console, refer to the <a href=\"https://cloud.google.com/iam/docs/granting-changing-revoking-access#grant-single-role\" target=\"_blank\">documentation</a>.</div>"
   ]
  },
  {
   "cell_type": "code",
   "execution_count": 18,
   "metadata": {
    "id": "q6BaY1LF5nSq"
   },
   "outputs": [],
   "source": [
    "project_client = resourcemanager_v3.ProjectsClient()\n",
    "request = resourcemanager_v3.GetProjectRequest(name=f\"projects/{PROJECT_ID}\")\n",
    "\n",
    "# Make the request\n",
    "project = project_client.get_project(request=request)"
   ]
  },
  {
   "cell_type": "code",
   "execution_count": 19,
   "metadata": {
    "id": "-JW-Pj9d5nSq"
   },
   "outputs": [],
   "source": [
    "project_number = project.name.split(\"/\")[-1]\n",
    "vertex_sa = f\"service-{project_number}@gcp-sa-aiplatform.iam.gserviceaccount.com\""
   ]
  },
  {
   "cell_type": "code",
   "execution_count": 20,
   "metadata": {
    "id": "jeSjI2PP5nSv"
   },
   "outputs": [],
   "source": [
    "policy = project_client.get_iam_policy(request={\n",
    "    \"resource\": f\"projects/{PROJECT_ID}\"\n",
    "})\n",
    "\n",
    "role = \"roles/secretmanager.secretAccessor\"\n",
    "bindings = list(b for b in policy.bindings if b.role == role)\n",
    "\n",
    "# Check to see whether this policy binding already exists\n",
    "if len(bindings) == 0:\n",
    "    binding = iam.policy_pb2.Binding(role=role, members=[vertex_sa])\n",
    "    policy.bindings.append(binding)\n",
    "\n",
    "else:\n",
    "    binding = bindings[0]\n",
    "    binding.members.append(vertex_sa)\n",
    "\n",
    "print(policy)"
   ]
  },
  {
   "cell_type": "markdown",
   "metadata": {
    "id": "rk4Si_gl5nSv"
   },
   "source": [
    "**BEFORE RUNNING THE NEXT CELL:** Review the output in the previous cell to ensure that no critical bindings are lost. Successfully running the next cell sets the policy on the Google Project to exactly what is specified in the `policy` object.\n",
    "\n",
    "Note that IAM restrictions on your user account or Compute service account might not allow you to set the IAM policy programmatically. If you cannot set the policy programmatically, try [setting the policy in the Cloud Console](https://cloud.google.com/iam/docs/granting-changing-revoking-access#grant-single-role)."
   ]
  },
  {
   "cell_type": "code",
   "execution_count": 21,
   "metadata": {
    "id": "YYGTwyDI5nSv"
   },
   "outputs": [],
   "source": [
    "updated_policy = project_client.set_iam_policy({\n",
    "    \"resource\": f\"projects/{PROJECT_ID}\",\n",
    "    \"policy\": policy,\n",
    "})\n",
    "\n",
    "print(updated_policy)"
   ]
  },
  {
   "cell_type": "markdown",
   "metadata": {
    "id": "rkjLDSj2ghL0"
   },
   "source": [
    "## Create a Google Maps extension\n",
    "\n",
    "In this tutorial, you create a simple Vertex AI extension that calls the Google Maps Places API. This service returns the place information from a given text prompt. You can read the [Google Maps Places API documentation](https://developers.google.com/maps/documentation/places/web-service/search) for more details."
   ]
  },
  {
   "cell_type": "markdown",
   "metadata": {
    "id": "9PMXnNmk5nSw"
   },
   "source": [
    "### Upload the OpenAPI YAML file\n",
    "\n",
    "Your Vertex Extension requires an OpenAPI 3.1 YAML file that defines routes, URL, HTTP methods, requests, and responses from the Places API. The following code creates a YAML file that you need to upload to your Cloud Storage bucket."
   ]
  },
  {
   "cell_type": "code",
   "execution_count": 22,
   "metadata": {
    "id": "S_HhQerxghL7"
   },
   "outputs": [
    {
     "name": "stdout",
     "output_type": "stream",
     "text": [
      "\n",
      "openapi: \"3.1.0\"\n",
      "info:\n",
      "  version: 1.0.0\n",
      "  title: google_map_tool\n",
      "  description: This tool uses Google Map to do text search\n",
      "servers:\n",
      "  - url: https://maps.googleapis.com\n",
      "paths:\n",
      "  /maps/api/place/textsearch/json:\n",
      "    get:\n",
      "      operationId: textSearch\n",
      "      description: The Google Places API Text Search Service is a web service that returns information about a set of places based on a string — for example \"pizza in New York\" or \"shoe stores near Ottawa\" or \"123 Main Street\". The service responds with a list of places matching the text string and any location bias that has been set.\n",
      "      parameters:\n",
      "        - name: query\n",
      "          description: |\n",
      "           The text string on which to search, for example: \"restaurant\" or \"123 Main Street\". This must be a place name, address, or category of establishments.\n",
      "          schema:\n",
      "            type: string\n",
      "          required: true\n",
      "          in: query\n",
      "      responses:\n",
      "          '200':\n",
      "            description: List of one or more places on a map.\n",
      "            content:\n",
      "              application/json:\n",
      "                schema:\n",
      "                  $ref: \"#/components/schemas/Place\"\n",
      "components:\n",
      "  schemas:\n",
      "    Place:\n",
      "      description: Represents a place.\n",
      "      properties:\n",
      "        name:\n",
      "          type: string\n",
      "        description:\n",
      "          type: string\n",
      "        rating:\n",
      "          type: string\n",
      "        url:\n",
      "          type: string\n",
      "          nullable: true\n",
      "        review_count:\n",
      "          type: number\n",
      "        address:\n",
      "          type: string\n",
      "\n"
     ]
    }
   ],
   "source": [
    "if not os.path.exists(\"extension-api\"):\n",
    "    os.mkdir(\"extension-api\")\n",
    "\n",
    "openapi_yaml = f\"\"\"\n",
    "openapi: \"3.1.0\"\n",
    "info:\n",
    "  version: 1.0.0\n",
    "  title: google_map_tool\n",
    "  description: This tool uses Google Map to do text search\n",
    "servers:\n",
    "  - url: https://maps.googleapis.com\n",
    "paths:\n",
    "  /maps/api/place/textsearch/json:\n",
    "    get:\n",
    "      operationId: textSearch\n",
    "      description: The Google Places API Text Search Service is a web service that returns information about a set of places based on a string — for example \"pizza in New York\" or \"shoe stores near Ottawa\" or \"123 Main Street\". The service responds with a list of places matching the text string and any location bias that has been set.\n",
    "      parameters:\n",
    "        - name: query\n",
    "          description: |\n",
    "           The text string on which to search, for example: \"restaurant\" or \"123 Main Street\". This must be a place name, address, or category of establishments.\n",
    "          schema:\n",
    "            type: string\n",
    "          required: true\n",
    "          in: query\n",
    "      responses:\n",
    "          '200':\n",
    "            description: List of one or more places on a map.\n",
    "            content:\n",
    "              application/json:\n",
    "                schema:\n",
    "                  $ref: \"#/components/schemas/Place\"\n",
    "components:\n",
    "  schemas:\n",
    "    Place:\n",
    "      description: Represents a place.\n",
    "      properties:\n",
    "        name:\n",
    "          type: string\n",
    "        description:\n",
    "          type: string\n",
    "        rating:\n",
    "          type: string\n",
    "        url:\n",
    "          type: string\n",
    "          nullable: true\n",
    "        review_count:\n",
    "          type: number\n",
    "        address:\n",
    "          type: string\n",
    "\"\"\"\n",
    "\n",
    "print(openapi_yaml)"
   ]
  },
  {
   "cell_type": "code",
   "execution_count": 23,
   "metadata": {
    "id": "DjOGjGLighL7"
   },
   "outputs": [
    {
     "name": "stdout",
     "output_type": "stream",
     "text": [
      "Writing 'openapi_yaml' (str) to file 'extension-api/maps-extension.yaml'.\n"
     ]
    }
   ],
   "source": [
    "%store openapi_yaml >extension-api/maps-extension.yaml"
   ]
  },
  {
   "cell_type": "markdown",
   "metadata": {
    "id": "5bysxsgLghL7"
   },
   "source": [
    "Upload the OpenAPI YAML to your Cloud Storage bucket."
   ]
  },
  {
   "cell_type": "code",
   "execution_count": 24,
   "metadata": {
    "id": "z5PWKGnmghL7"
   },
   "outputs": [],
   "source": [
    "storage_client = storage.Client()\n",
    "bucket = storage_client.bucket(BUCKET_NAME)\n",
    "blob_name = f\"{extensions_prefix}/maps-extension.yaml\"\n",
    "blob = bucket.blob(blob_name)\n",
    "blob.upload_from_filename(\"extension-api/maps-extension.yaml\")"
   ]
  },
  {
   "cell_type": "markdown",
   "metadata": {
    "id": "WLkzvkdUghL8"
   },
   "source": [
    "### Create the extension\n",
    "\n",
    " following cell uses the Python SDK to import the extension (thereby creating it) in Vertex AI."
   ]
  },
  {
   "cell_type": "code",
   "execution_count": 25,
   "metadata": {
    "id": "NgPF-bEhghL8"
   },
   "outputs": [
    {
     "name": "stdout",
     "output_type": "stream",
     "text": [
      "Creating Extension\n",
      "Create Extension backing LRO: projects/964731510884/locations/us-central1/extensions/1910370666935222272/operations/665970825689563136\n",
      "Extension created. Resource name: projects/964731510884/locations/us-central1/extensions/1910370666935222272\n",
      "To use this Extension in another session:\n",
      "extension = aiplatform.Extension('projects/964731510884/locations/us-central1/extensions/1910370666935222272')\n"
     ]
    },
    {
     "data": {
      "text/plain": [
       "<google.cloud.aiplatform.private_preview.llm_extension.extensions.Extension object at 0x142167210> \n",
       "resource name: projects/964731510884/locations/us-central1/extensions/1910370666935222272"
      ]
     },
     "execution_count": 25,
     "metadata": {},
     "output_type": "execute_result"
    }
   ],
   "source": [
    "extension_maps = llm_extension.Extension.create(\n",
    "    display_name = \"Google Maps Places API\",\n",
    "    description = \"Google Maps Places API Extension\",\n",
    "    manifest = {\n",
    "        \"name\": \"google_maps_tool\",\n",
    "        \"description\": \"This extension calls the Google Maps Places API to get information\",\n",
    "        \"api_spec\": {\n",
    "            \"open_api_gcs_uri\": f\"gs://{BUCKET_NAME}/{extensions_prefix}/maps-extension.yaml\"\n",
    "        },\n",
    "        \"auth_config\": {\n",
    "            \"auth_type\": \"API_KEY_AUTH\",\n",
    "            \"api_key_config\": {\n",
    "                \"name\": \"key\",\n",
    "                \"api_key_secret\": version.name,\n",
    "                \"http_element_location\": \"HTTP_IN_QUERY\",\n",
    "            },\n",
    "        },\n",
    "    },\n",
    ")\n",
    "extension_maps"
   ]
  },
  {
   "cell_type": "markdown",
   "metadata": {},
   "source": [
    "Now that you've create your extension, let's confirm that it's registered:"
   ]
  },
  {
   "cell_type": "code",
   "execution_count": 26,
   "metadata": {
    "id": "0gQPqLe5aNiK"
   },
   "outputs": [
    {
     "name": "stdout",
     "output_type": "stream",
     "text": [
      "Name: projects/964731510884/locations/us-central1/extensions/1910370666935222272\n",
      "Display Name: Google Maps Places API\n",
      "Description: Google Maps Places API Extension\n"
     ]
    }
   ],
   "source": [
    "print(\"Name:\", extension_maps.gca_resource.name)\n",
    "print(\"Display Name:\", extension_maps.display_name)\n",
    "print(\"Description:\", extension_maps.gca_resource.description)"
   ]
  },
  {
   "cell_type": "markdown",
   "metadata": {
    "id": "2HGiVjFSaNiL"
   },
   "source": [
    "### Run the Vertex extension\n",
    "\n",
    "Once you have created a Vertex AI extension, you can execute the extension to verify its behavior."
   ]
  },
  {
   "cell_type": "code",
   "execution_count": 27,
   "metadata": {
    "id": "MSSqbpBpaNiL"
   },
   "outputs": [
    {
     "data": {
      "text/plain": [
       "{'html_attributions': [],\n",
       " 'results': [{'formatted_address': 'Google Building MP1, 1155 Borregas Ave, Sunnyvale, CA 94089, USA',\n",
       "   'geometry': {'location': {'lat': 37.404937, 'lng': -122.0214239},\n",
       "    'viewport': {'northeast': {'lat': 37.40641357989272,\n",
       "      'lng': -122.0199238701073},\n",
       "     'southwest': {'lat': 37.40371392010728, 'lng': -122.0226235298927}}},\n",
       "   'icon': 'https://maps.gstatic.com/mapfiles/place_api/icons/v1/png_71/geocode-71.png',\n",
       "   'icon_background_color': '#7B9EB0',\n",
       "   'icon_mask_base_uri': 'https://maps.gstatic.com/mapfiles/place_api/icons/v2/generic_pinlet',\n",
       "   'name': 'Google Building MP1',\n",
       "   'photos': [{'height': 3024,\n",
       "     'html_attributions': ['<a href=\"https://maps.google.com/maps/contrib/100557233042623135184\">Elmer Garduno</a>'],\n",
       "     'photo_reference': 'AWU5eFikh3tZcNFvSRY-YiybUfviwGCGszLFkThMI0r_gA3z455ZAXuF56eIx_pP4O33WWUuOiBWhcseAV6kmoDDnznboHXrIFJaAC8Wxj3jkrvEZM89fxAMCWUZGxGkNISOnn9Mjnw6vF9yXd1vnTNZ1-4YsqARwp8cvFXYvDIr4rGMEO1Z',\n",
       "     'width': 4032}],\n",
       "   'place_id': 'ChIJXwunrbC3j4ARpG7Jj1GzUDk',\n",
       "   'reference': 'ChIJXwunrbC3j4ARpG7Jj1GzUDk',\n",
       "   'types': ['premise']}],\n",
       " 'status': 'OK'}"
      ]
     },
     "execution_count": 27,
     "metadata": {},
     "output_type": "execute_result"
    }
   ],
   "source": [
    "response = extension_maps.execute(\n",
    "    \"textSearch\",\n",
    "    operation_params = {\n",
    "        \"query\": \"1155 Borregas Ave\",\n",
    "    },\n",
    ")\n",
    "response"
   ]
  },
  {
   "cell_type": "markdown",
   "metadata": {
    "id": "TpV-iwP9qw9c",
    "tags": []
   },
   "source": [
    "## Cleaning up\n",
    "\n",
    "To clean up all Google Cloud resources used in this project, you can [delete the Google Cloud\n",
    "project](https://cloud.google.com/resource-manager/docs/creating-managing-projects#shutting_down_projects) you used for the tutorial.\n",
    "\n",
    "Otherwise, you can delete the individual resources you created in this tutorial:"
   ]
  },
  {
   "cell_type": "code",
   "execution_count": 28,
   "metadata": {
    "id": "sx_vKniMq9ZX"
   },
   "outputs": [
    {
     "name": "stdout",
     "output_type": "stream",
     "text": [
      "Deleting Extension : projects/964731510884/locations/us-central1/extensions/1910370666935222272\n",
      "Delete Extension  backing LRO: projects/964731510884/locations/us-central1/operations/4561021553411620864\n",
      "Extension deleted. . Resource name: projects/964731510884/locations/us-central1/extensions/1910370666935222272\n"
     ]
    }
   ],
   "source": [
    "# Delete the extension\n",
    "extension_maps.delete()\n",
    "\n",
    "# Delete Cloud Storage objects that were created\n",
    "# delete_bucket = False\n",
    "# if delete_bucket or os.getenv(\"IS_TESTING\"):\n",
    "# ! gsutil -m rm -r $BUCKET_URI"
   ]
  }
 ],
 "metadata": {
  "colab": {
   "provenance": []
  },
  "environment": {
   "kernel": "conda-root-py",
   "name": "workbench-notebooks.m111",
   "type": "gcloud",
   "uri": "gcr.io/deeplearning-platform-release/workbench-notebooks:m111"
  },
  "kernelspec": {
   "display_name": "Python 3 (ipykernel)",
   "language": "python",
   "name": "python3"
  },
  "language_info": {
   "codemirror_mode": {
    "name": "ipython",
    "version": 3
   },
   "file_extension": ".py",
   "mimetype": "text/x-python",
   "name": "python",
   "nbconvert_exporter": "python",
   "pygments_lexer": "ipython3",
   "version": "3.11.6"
  }
 },
 "nbformat": 4,
 "nbformat_minor": 4
}
