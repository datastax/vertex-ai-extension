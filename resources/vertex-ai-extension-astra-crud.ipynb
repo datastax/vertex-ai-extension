{
 "cells": [
  {
   "cell_type": "code",
   "execution_count": null,
   "metadata": {
    "cellView": "form",
    "id": "ur8xi4C7S06n"
   },
   "outputs": [],
   "source": [
    "#@title LICENSE\n",
    "\n",
    "# Copyright 2023 Google LLC\n",
    "#\n",
    "# Licensed under the Apache License, Version 2.0 (the \"License\");\n",
    "# you may not use this file except in compliance with the License.\n",
    "# You may obtain a copy of the License at\n",
    "#\n",
    "#     https://www.apache.org/licenses/LICENSE-2.0\n",
    "#\n",
    "# Unless required by applicable law or agreed to in writing, software\n",
    "# distributed under the License is distributed on an \"AS IS\" BASIS,\n",
    "# WITHOUT WARRANTIES OR CONDITIONS OF ANY KIND, either express or implied.\n",
    "# See the License for the specific language governing permissions and\n",
    "# limitations under the License."
   ]
  },
  {
   "cell_type": "markdown",
   "metadata": {
    "id": "tvgnzT1CKxrO"
   },
   "source": [
    "# Use Vertex AI Extensions with a Custom Extension\n",
    "\n",
    "## Overview\n",
    "\n",
    "\n",
    "Vertex AI Extensions is a platform for creating and managing extensions that connect large language models to external systems via APIs. These external systems can provide LLMs with real-time data and perform data processing actions on their behalf. You can use pre-built or third-party extensions in Vertex AI Extensions.\n",
    "\n",
    "Learn more about [Vertex AI Extensions](https://cloud.google.com/vertex-ai/docs/generative-ai/extensions/private/overview).\n",
    "\n",
    "This notebook provides a simple getting started experience for the Vertex AI Extensions framework. This guide assumes that you are familiar with the Vertex AI Python SDK, [LangChain](https://python.langchain.com/docs/get_started/introduction), [OpenAPI specification](https://swagger.io/specification/), and [Cloud Run](https://cloud.google.com/run/docs).\n",
    "\n",
    "### Objective\n",
    "\n",
    "In this tutorial, you learn how to create an extension service backend on Cloud Run, register the extension with Vertex, and then use the extension in an application.\n",
    "\n",
    "The steps performed include:\n",
    "\n",
    "- Creating a simple service running on Cloud Run\n",
    "- Creating an OpenAPI 3.1 YAML file for the Cloud Run service\n",
    "- Registering the service as an extension with Vertex AI\n",
    "- Using the extension to respond to user queries\n",
    "- Integrate LangChain into the reasoning for an extension\n",
    "\n",
    "### Additional Information\n",
    "\n",
    "This tutorial uses the following Google Cloud services and resources:\n",
    "\n",
    "- Vertex AI Extensions\n",
    "- Cloud Run\n",
    "\n",
    "**_NOTE_**: This notebook has been tested in the following environment:\n",
    "\n",
    "* Python version = 3.11"
   ]
  },
  {
   "cell_type": "markdown",
   "metadata": {
    "id": "n2OYMHXO8gjT"
   },
   "source": [
    "### Authenticate your Google Cloud account\n",
    "\n",
    "You must authenticate to Google Cloud to access the pre-release version of the Python SDK and the Vertex AI Extensions feature."
   ]
  },
  {
   "cell_type": "code",
   "execution_count": null,
   "metadata": {
    "id": "603adbbf0532"
   },
   "outputs": [],
   "source": [
    "import sys\n",
    "\n",
    "if \"google.colab\" in sys.modules:\n",
    "    # Authenticate user to Google Cloud\n",
    "    from google.colab import auth\n",
    "    auth.authenticate_user()"
   ]
  },
  {
   "cell_type": "markdown",
   "metadata": {
    "id": "i7EUnXsZhAGF"
   },
   "source": [
    "### Installation\n",
    "\n",
    "This tutorial requires a pre-release version of the Python SDK for Vertex AI. You must be logged in with credentials that are registered for the Vertex AI Extensions Private Preview.\n",
    "\n",
    "Run the following command to download the library as a wheel from a Cloud Storage bucket:"
   ]
  },
  {
   "cell_type": "code",
   "execution_count": null,
   "metadata": {},
   "outputs": [],
   "source": [
    "!gsutil cp gs://vertex_sdk_private_releases/llm_extension/google_cloud_aiplatform-1.39.dev20231219+llm.extension-py2.py3-none-any.whl ."
   ]
  },
  {
   "cell_type": "markdown",
   "metadata": {},
   "source": [
    "Then, install the following packages required to execute this notebook:"
   ]
  },
  {
   "cell_type": "code",
   "execution_count": null,
   "metadata": {
    "id": "A1MlayQHghLz"
   },
   "outputs": [],
   "source": [
    "!pip install --force-reinstall --quiet google_cloud_aiplatform-1.39.dev20231219+llm.extension-py2.py3-none-any.whl\n",
    "!pip install --upgrade --quiet \"langchain==0.0.331\" \\\n",
    "\"openapi-schema-pydantic==1.2.4\" \\\n",
    "\"openapi-pydantic==0.3.2\" \\\n",
    "\"google-cloud-storage\" \\\n",
    "\"shapely<2\""
   ]
  },
  {
   "cell_type": "markdown",
   "metadata": {
    "id": "d5RDjT_98gjU"
   },
   "source": [
    "Restart the kernel after installing packages:"
   ]
  },
  {
   "cell_type": "code",
   "execution_count": null,
   "metadata": {
    "id": "f200f10a1da3"
   },
   "outputs": [],
   "source": [
    "import IPython\n",
    "app = IPython.Application.instance()\n",
    "app.kernel.do_shutdown(True)"
   ]
  },
  {
   "cell_type": "markdown",
   "metadata": {
    "id": "WReHDGG5g0XY"
   },
   "source": [
    "## Before you begin\n",
    "\n",
    "### Set up your Google Cloud project\n",
    "\n",
    "**The following steps are required, regardless of your notebook environment.**\n",
    "\n",
    "1. [Select or create a Google Cloud project](https://console.cloud.google.com/cloud-resource-manager). When you first create an account, you get a $300 free credit towards your compute/storage costs.\n",
    "1. [Make sure that billing is enabled for your project](https://cloud.google.com/billing/docs/how-to/modify-project).\n",
    "1. [Enable the Vertex AI API](https://console.cloud.google.com/flows/enableapi?apiid=aiplatform.googleapis.com).\n",
    "1. If you are running this notebook locally, you need to install the [Cloud SDK](https://cloud.google.com/sdk).\n",
    "1. Your project must also be allowlisted for the Vertex AI Extension Private Preview.\n",
    "1. This notebook requires that you have the following permissions for your GCP project:\n",
    "- `roles/aiplatform.user`\n",
    "\n",
    "### Set your project ID\n",
    "\n",
    "**If you don't know your project ID**, try the following:\n",
    "* Run `gcloud config list`.\n",
    "* Run `gcloud projects list`.\n",
    "* See the support page: [Locate the project ID](https://support.google.com/googleapi/answer/7014113)"
   ]
  },
  {
   "cell_type": "code",
   "execution_count": null,
   "metadata": {
    "id": "oM1iC_MfAts1"
   },
   "outputs": [],
   "source": [
    "PROJECT_ID = \"integrations-379317\"  # @param {type:\"string\"}\n",
    "\n",
    "# Set the project id\n",
    "!gcloud config set project {PROJECT_ID}"
   ]
  },
  {
   "cell_type": "markdown",
   "metadata": {
    "id": "region"
   },
   "source": [
    "### Region\n",
    "\n",
    "You can also change the `REGION` variable used by Vertex AI. Learn more about [Vertex AI regions](https://cloud.google.com/vertex-ai/docs/general/locations)."
   ]
  },
  {
   "cell_type": "code",
   "execution_count": null,
   "metadata": {},
   "outputs": [],
   "source": [
    "REGION = \"us-central1\"  # @param {type: \"string\"}"
   ]
  },
  {
   "cell_type": "markdown",
   "metadata": {
    "id": "zgPO1eR3CYjk"
   },
   "source": [
    "### Create a Cloud Storage bucket\n",
    "\n",
    "Create a storage bucket to store intermediate artifacts such as datasets."
   ]
  },
  {
   "cell_type": "code",
   "execution_count": null,
   "metadata": {
    "id": "MzGDU7TWdts_"
   },
   "outputs": [],
   "source": [
    "BUCKET_NAME = \"vai-bucket\"  # @param {type:\"string\"}\n",
    "BUCKET_URI = f\"gs://{BUCKET_NAME}\"\n",
    "extensions_prefix = \"extension\""
   ]
  },
  {
   "cell_type": "markdown",
   "metadata": {
    "id": "-EcIXiGsCePi"
   },
   "source": [
    "**Only if your bucket doesn't already exist**: Run the following cell to create your Cloud Storage bucket."
   ]
  },
  {
   "cell_type": "code",
   "execution_count": null,
   "metadata": {
    "id": "NIq7R4HZCfIc"
   },
   "outputs": [],
   "source": [
    "!gsutil mb -l $REGION -p $PROJECT_ID $BUCKET_URI"
   ]
  },
  {
   "cell_type": "markdown",
   "metadata": {
    "id": "960505627ddf"
   },
   "source": [
    "### Import libraries\n",
    "\n"
   ]
  },
  {
   "cell_type": "code",
   "execution_count": null,
   "metadata": {
    "id": "PyQmSRbKA8r-"
   },
   "outputs": [],
   "source": [
    "import os\n",
    "\n",
    "import vertexai\n",
    "from google.cloud.aiplatform.private_preview import llm_extension\n",
    "from google.cloud import storage\n",
    "\n",
    "from langchain import PromptTemplate, LLMChain\n",
    "from langchain.llms import VertexAI\n",
    "from langchain.tools import OpenAPISpec, APIOperation\n",
    "from langchain.chains import OpenAPIEndpointChain\n",
    "from langchain.requests import Requests"
   ]
  },
  {
   "cell_type": "markdown",
   "metadata": {
    "id": "init_aip:mbsdk,all"
   },
   "source": [
    "### Initialize Vertex AI SDK for Python\n",
    "\n",
    "Initialize the Vertex AI SDK for Python for your project."
   ]
  },
  {
   "cell_type": "code",
   "execution_count": null,
   "metadata": {
    "id": "ABew50yughL0"
   },
   "outputs": [],
   "source": [
    "vertexai.init(project=PROJECT_ID, location=REGION, staging_bucket=BUCKET_URI)"
   ]
  },
  {
   "cell_type": "markdown",
   "metadata": {
    "id": "rkjLDSj2ghL0"
   },
   "source": [
    "## Creating an API backend service\n",
    "\n",
    "In this tutorial, you create a simple \"hello world\" service that runs on Cloud Run. This service returns \"hello\" in one of several languages, depending on the prompt sent from your extension (more on that later).\n",
    "\n",
    "This simple example does not demonstrate best practices for authentication. Authenticating to your service is covered later.\n",
    "\n",
    "**Note**: Your backend API service does not need to be hosted on Cloud Run.\n",
    "\n",
    "### Deploy the API service to Cloud Run"
   ]
  },
  {
   "cell_type": "code",
   "execution_count": null,
   "metadata": {
    "id": "4JebL18KghL1"
   },
   "outputs": [],
   "source": [
    "if not os.path.exists(\"extension\"):\n",
    "    os.mkdir(\"extension\")"
   ]
  },
  {
   "cell_type": "code",
   "execution_count": null,
   "metadata": {
    "id": "eIR46NIKghL1"
   },
   "outputs": [],
   "source": [
    "%%writefile extension/Dockerfile\n",
    "\n",
    "FROM python:3.11-slim\n",
    "\n",
    "ENV PYTHONUNBUFFERED True\n",
    "\n",
    "ENV APP_HOME /app\n",
    "WORKDIR $APP_HOME\n",
    "COPY . ./\n",
    "\n",
    "RUN pip install --no-cache-dir -r requirements.txt\n",
    "\n",
    "CMD exec gunicorn --bind :$PORT --workers 1 --threads 8 --timeout 0 extension:app"
   ]
  },
  {
   "cell_type": "code",
   "execution_count": null,
   "metadata": {
    "id": "X0u_OixcghL6"
   },
   "outputs": [],
   "source": [
    "%%writefile extension/extension.py\n",
    "from flask import Flask, jsonify, request\n",
    "\n",
    "from astrapy.db import AstraDB\n",
    "\n",
    "import os\n",
    "import uuid\n",
    "\n",
    "app = Flask(__name__)\n",
    "\n",
    "\n",
    "@app.route(\"/\", methods=[\"GET\"])\n",
    "def hello_world():\n",
    "    data = {\"message\": \"Hello, World!\"}\n",
    "    \n",
    "    return jsonify(data)\n",
    "\n",
    "\n",
    "@app.route(\"/readData\", methods=[\"POST\"])\n",
    "def read_astra():\n",
    "    params = request.json\n",
    "\n",
    "    # Grab the Astra token and api endpoint from the environment\n",
    "    token = params.get(\"token\")\n",
    "    api_endpoint = params.get(\"api_endpoint\")\n",
    "\n",
    "    # Error out if we don't have the token or api_endpoint\n",
    "    if not token or not api_endpoint:\n",
    "        return jsonify({\"error\": \"token or api_endpoint not provided\"})\n",
    "\n",
    "    # Optional Params for the astra call\n",
    "    table = params.get(\"tableName\", \"test\")\n",
    "    filter = params.get(\"filter\", None)\n",
    "\n",
    "    # Call the vector find operation\n",
    "    astra_db = AstraDB(token=token, api_endpoint=api_endpoint)\n",
    "    astra_db_collection = astra_db.collection(table)\n",
    "    data = astra_db_collection.find(filter=filter)\n",
    "\n",
    "    return jsonify(data)\n",
    "\n",
    "\n",
    "@app.route(\"/insertData\", methods=[\"POST\"])\n",
    "def insert_astra():\n",
    "    params = request.json\n",
    "\n",
    "    # Grab the Astra token and api endpoint from the environment\n",
    "    token = params.get(\"token\")\n",
    "    api_endpoint = params.get(\"api_endpoint\")\n",
    "\n",
    "    # Error out if we don't have the token or api_endpoint\n",
    "    if not token or not api_endpoint:\n",
    "        return jsonify({\"error\": \"token or api_endpoint not provided\"})\n",
    "\n",
    "    # Some example data\n",
    "    doc = {\n",
    "        \"_id\": str(uuid.uuid4()),\n",
    "        \"name\": \"Coded Cleats Copy\",\n",
    "        \"description\": \"ChatGPT integrated sneakers that talk to you\",\n",
    "        \"$vector\": [0.25, 0.25, 0.25, 0.25, 0.25],\n",
    "    }\n",
    "\n",
    "    # Optional Params for the astra call\n",
    "    table = params.get(\"tableName\", \"test\")\n",
    "    data = params.get(\"data\", doc)\n",
    "\n",
    "    # Initialize our vector db\n",
    "    astra_db = AstraDB(token=token, api_endpoint=api_endpoint)\n",
    "    astra_db_collection = astra_db.create_collection(table, dimension=5)\n",
    "\n",
    "    # Insert a document into the test collection\n",
    "    data = astra_db_collection.insert_one(data)\n",
    "\n",
    "    return jsonify(data)\n",
    "\n",
    "\n",
    "@app.route(\"/updateData\", methods=[\"POST\"])\n",
    "def update_astra():\n",
    "    params = request.json\n",
    "\n",
    "    # Grab the Astra token and api endpoint from the environment\n",
    "    token = params.get(\"token\")\n",
    "    api_endpoint = params.get(\"api_endpoint\")\n",
    "\n",
    "    # Error out if we don't have the token or api_endpoint\n",
    "    if not token or not api_endpoint:\n",
    "        return jsonify({\"error\": \"token or api_endpoint not provided\"})\n",
    "\n",
    "    # Optional Params for the astra call\n",
    "    table = params.get(\"tableName\", \"test\")\n",
    "    filter = params.get(\"filter\", None)\n",
    "    field_update = params.get(\"fieldUpdate\", 1)\n",
    "\n",
    "    # Call the vector find operation\n",
    "    astra_db = AstraDB(token=token, api_endpoint=api_endpoint)\n",
    "    astra_db_collection = astra_db.collection(table)\n",
    "    data = astra_db_collection.find_one_and_update(filter=filter, update=field_update)\n",
    "\n",
    "    return jsonify(data)\n",
    "\n",
    "\n",
    "@app.route(\"/deleteData\", methods=[\"POST\"])\n",
    "def delete_astra():\n",
    "    params = request.json\n",
    "\n",
    "    # Grab the Astra token and api endpoint from the environment\n",
    "    token = params.get(\"token\")\n",
    "    api_endpoint = params.get(\"api_endpoint\")\n",
    "\n",
    "    # Error out if we don't have the token or api_endpoint\n",
    "    if not token or not api_endpoint:\n",
    "        return jsonify({\"error\": \"token or api_endpoint not provided\"})\n",
    "\n",
    "    # Optional Params for the astra call\n",
    "    table = params.get(\"tableName\", \"test\")\n",
    "    filter = params.get(\"filter\", None)\n",
    "\n",
    "    # Call the vector find operation\n",
    "    astra_db = AstraDB(token=token, api_endpoint=api_endpoint)\n",
    "    astra_db_collection = astra_db.collection(table)\n",
    "    data = astra_db_collection.delete_many(filter=filter)\n",
    "\n",
    "    return jsonify(data)\n",
    "\n",
    "\n",
    "if __name__ == \"__main__\":\n",
    "    app.run(debug=True, host=\"0.0.0.0\", port=int(os.environ.get(\"PORT\", 8080)))"
   ]
  },
  {
   "cell_type": "code",
   "execution_count": null,
   "metadata": {
    "id": "XjNmQHEtghL6"
   },
   "outputs": [],
   "source": [
    "%%writefile extension/requirements.txt\n",
    "Flask==3.0.1\n",
    "gunicorn==21.2.0\n",
    "astrapy==0.7.0"
   ]
  },
  {
   "cell_type": "code",
   "execution_count": null,
   "metadata": {
    "id": "zUCFlFr1ghL6"
   },
   "outputs": [],
   "source": [
    "%%writefile extension/.dockerignore\n",
    "Dockerfile\n",
    "README.md\n",
    "*.pyc\n",
    "*.pyo\n",
    "*.pyd\n",
    "__pycache__\n",
    ".pytest_cache"
   ]
  },
  {
   "cell_type": "markdown",
   "metadata": {
    "id": "raX4unoGuSEY"
   },
   "source": [
    "Next, you deploy the service to Cloud Run. However, you might need to log in once more to deploy."
   ]
  },
  {
   "cell_type": "code",
   "execution_count": null,
   "metadata": {
    "id": "leotFWZxFUWd"
   },
   "outputs": [],
   "source": [
    "!gcloud auth login"
   ]
  },
  {
   "cell_type": "code",
   "execution_count": null,
   "metadata": {
    "id": "2kXRKtqtghL6"
   },
   "outputs": [],
   "source": [
    "!gcloud run deploy extension --region=us-central1 --allow-unauthenticated --source extension --no-user-output-enabled"
   ]
  },
  {
   "cell_type": "markdown",
   "metadata": {},
   "source": [
    "List the most recent Cloud Run service that was deployed, then you'll copy its URL to the next cell:"
   ]
  },
  {
   "cell_type": "code",
   "execution_count": null,
   "metadata": {},
   "outputs": [],
   "source": [
    "!gcloud run services list | sort -k 3 | head -2"
   ]
  },
  {
   "cell_type": "code",
   "execution_count": null,
   "metadata": {
    "id": "zccCypM1ghL6"
   },
   "outputs": [],
   "source": [
    "# @title Copy paste the output from the previous command here\n",
    "service_url = \"https://extension-we3tzahyyq-uc.a.run.app\"  # @param {type:\"string\"}\n",
    "\n",
    "token = \"AstraCS:CfepwnbSLyXQrksvpTiexARn:5402b254725e3a6136865820108685f5258b45e29b7d9516ca4e66515f5b7b53\"\n",
    "api_endpoint = \"https://910bf7a2-c197-4ea6-86be-ae691533154a-eu-west-1.apps.astra.datastax.com\""
   ]
  },
  {
   "cell_type": "markdown",
   "metadata": {
    "id": "WOmsbUSvghL7"
   },
   "source": [
    "### Create an OpenAPI spec\n",
    "\n",
    "Your Vertex Extension requires an OpenAPI 3.1 YAML file that defines routes, URL, HTTP methods, requests, and responses from your \"backend\" service. The following code creates a YAML file that you need to upload to your Cloud Storage bucket."
   ]
  },
  {
   "cell_type": "code",
   "execution_count": null,
   "metadata": {
    "id": "S_HhQerxghL7"
   },
   "outputs": [],
   "source": [
    "if not os.path.exists(\"extension-api\"):\n",
    "    os.mkdir(\"extension-api\")\n",
    "\n",
    "openapi_yaml = \"\"\"\n",
    "openapi: 3.1.0\n",
    "info:\n",
    "  title: Astra Vertex Extension\n",
    "  description: An extension to perform CRUD actions on data within your Astra Database.\n",
    "  version: 1.0.0\n",
    "paths:\n",
    "  /readData:\n",
    "    get:\n",
    "      operationId: readData\n",
    "      summary: Search for data within the database\n",
    "      parameters:\n",
    "        - name: tableName\n",
    "          in: query\n",
    "          description: The name of the table to search\n",
    "          required: true\n",
    "          schema:\n",
    "            type: string\n",
    "        - name: filter\n",
    "          in: query\n",
    "          description: The filter to be applied to the search\n",
    "          required: true\n",
    "          schema:\n",
    "            type: object\n",
    "      responses:\n",
    "        '200':\n",
    "          description: Successful response\n",
    "          content:\n",
    "            application/json:\n",
    "              schema:\n",
    "                type: array\n",
    "                items:\n",
    "                  type: object\n",
    "  /updateData:\n",
    "    post:\n",
    "      operationId: updateData\n",
    "      summary: Update existing data within the database\n",
    "      requestBody:\n",
    "        required: true\n",
    "        content:\n",
    "          application/json:\n",
    "            schema:\n",
    "              type: object\n",
    "              properties:\n",
    "                tableName:\n",
    "                  type: string\n",
    "                filter:\n",
    "                  type: object\n",
    "                fieldUpdate:\n",
    "                  type: object\n",
    "      responses:\n",
    "        '200':\n",
    "          description: Data updated successfully\n",
    "          content:\n",
    "            application/json:\n",
    "              schema:\n",
    "                type: array\n",
    "                items:\n",
    "                  type: object\n",
    "  /insertData:\n",
    "    post:\n",
    "      operationId: insertData\n",
    "      summary: Insert new data into the database\n",
    "      requestBody:\n",
    "        required: true\n",
    "        content:\n",
    "          application/json:\n",
    "            schema:\n",
    "              type: object\n",
    "              properties:\n",
    "                tableName:\n",
    "                  type: string\n",
    "                data:\n",
    "                  type: object\n",
    "      responses:\n",
    "        '200':\n",
    "          description: Data inserted successfully\n",
    "          content:\n",
    "            application/json:\n",
    "              schema:\n",
    "                type: array\n",
    "                items:\n",
    "                  type: object\n",
    "  /deleteData:\n",
    "    delete:\n",
    "      operationId: deleteData\n",
    "      summary: Delete existing data within the database\n",
    "      parameters:\n",
    "        - name: tableName\n",
    "          in: query\n",
    "          description: The name of the table\n",
    "          required: true\n",
    "          schema:\n",
    "            type: string\n",
    "        - name: filter\n",
    "          in: query\n",
    "          description: The filter to be applied to the search\n",
    "          required: true\n",
    "          schema:\n",
    "            type: object\n",
    "      responses:\n",
    "        '200':\n",
    "          description: Data deleted successfully\n",
    "          content:\n",
    "            application/json:\n",
    "              schema:\n",
    "                type: array\n",
    "                items:\n",
    "                  type: object\n",
    "\n",
    "\"\"\"\n",
    "\n",
    "print(openapi_yaml)"
   ]
  },
  {
   "cell_type": "code",
   "execution_count": null,
   "metadata": {
    "id": "DjOGjGLighL7"
   },
   "outputs": [],
   "source": [
    "%store openapi_yaml >extension-api/extension.yaml"
   ]
  },
  {
   "cell_type": "markdown",
   "metadata": {
    "id": "5bysxsgLghL7"
   },
   "source": [
    "Upload the OpenAPI YAML to your Cloud Storage bucket."
   ]
  },
  {
   "cell_type": "code",
   "execution_count": null,
   "metadata": {
    "id": "z5PWKGnmghL7"
   },
   "outputs": [],
   "source": [
    "storage_client = storage.Client()\n",
    "bucket = storage_client.bucket(BUCKET_NAME)\n",
    "blob_name = f\"{extensions_prefix}/extension.yaml\"\n",
    "blob = bucket.blob(blob_name)\n",
    "blob.upload_from_filename(\"extension-api/extension.yaml\")"
   ]
  },
  {
   "cell_type": "markdown",
   "metadata": {
    "id": "o6DJJOt8ghL7"
   },
   "source": [
    "### Test the service locally using LangChain\n",
    "\n",
    "First, check that your service can accept simple HTTP `GET` requests:"
   ]
  },
  {
   "cell_type": "code",
   "execution_count": null,
   "metadata": {
    "id": "Ju2KQKc7rNqi"
   },
   "outputs": [],
   "source": [
    "url = f'{service_url}/'\n",
    "print(url)"
   ]
  },
  {
   "cell_type": "code",
   "execution_count": null,
   "metadata": {
    "id": "82rwEauXghL8"
   },
   "outputs": [],
   "source": [
    "import requests\n",
    "import uuid\n",
    "\n",
    "doc = {\n",
    "    \"_id\": str(uuid.uuid4()),\n",
    "    \"name\": \"Coded Cleats Copy Test\",\n",
    "    \"description\": \"ChatGPT integrated sneakers that talk to you\",\n",
    "    \"$vector\": [0.25, 0.25, 0.25, 0.25, 0.25],\n",
    "}\n",
    "\n",
    "body_arguments = {\n",
    "    \"token\": token,\n",
    "    \"api_endpoint\": api_endpoint,\n",
    "    \"data\": doc,\n",
    "    \"tableName\": \"demo\",\n",
    "}\n",
    "\n",
    "print(url + \"insertData\")\n",
    "r = requests.post(url + \"insertData\", json=body_arguments)\n",
    "\n",
    "print(f\"Status Code: {r.status_code}, Content: {r.text}\")\n"
   ]
  },
  {
   "cell_type": "code",
   "execution_count": null,
   "metadata": {},
   "outputs": [],
   "source": [
    "body_arguments = {\n",
    "    \"token\": token,\n",
    "    \"api_endpoint\": api_endpoint,\n",
    "    \"tableName\": \"demo\",\n",
    "}\n",
    "\n",
    "print(url + \"readData\")\n",
    "r = requests.post(url + \"readData\", json=body_arguments)\n",
    "\n",
    "print(f\"Status Code: {r.status_code}, Content: {r.text}\")"
   ]
  },
  {
   "cell_type": "code",
   "execution_count": null,
   "metadata": {},
   "outputs": [],
   "source": [
    "body_arguments = {\n",
    "    \"token\": token,\n",
    "    \"api_endpoint\": api_endpoint,\n",
    "    \"tableName\": \"demo\",\n",
    "    \"fieldUpdate\": {\"$set\": {\"name\": \"Coded Cleats Copy Test Update\"}},\n",
    "}\n",
    "\n",
    "print(url + \"updateData\")\n",
    "r = requests.post(url + \"updateData\", json=body_arguments)\n",
    "\n",
    "print(f\"Status Code: {r.status_code}, Content: {r.text}\")"
   ]
  },
  {
   "cell_type": "code",
   "execution_count": null,
   "metadata": {},
   "outputs": [],
   "source": [
    "body_arguments = {\n",
    "    \"token\": token,\n",
    "    \"api_endpoint\": api_endpoint,\n",
    "    \"tableName\": \"demo\",\n",
    "    \"filter\": {\"name\": \"Coded Cleats Copy Test Update\"},\n",
    "}\n",
    "\n",
    "print(url + \"deleteData\")\n",
    "r = requests.post(url + \"deleteData\", json=body_arguments)\n",
    "\n",
    "print(f\"Status Code: {r.status_code}, Content: {r.text}\")"
   ]
  },
  {
   "cell_type": "code",
   "execution_count": null,
   "metadata": {},
   "outputs": [],
   "source": [
    "body_arguments = {\n",
    "    \"token\": token,\n",
    "    \"api_endpoint\": api_endpoint,\n",
    "    \"tableName\": \"demo\",\n",
    "}\n",
    "\n",
    "print(url + \"readData\")\n",
    "r = requests.post(url + \"readData\", json=body_arguments)\n",
    "\n",
    "print(f\"Status Code: {r.status_code}, Content: {r.text}\")"
   ]
  },
  {
   "cell_type": "markdown",
   "metadata": {
    "id": "WLkzvkdUghL8"
   },
   "source": [
    "## Creating and using a custom extension\n",
    "\n",
    "### Create the extension\n",
    "\n",
    "Now that you've set up the service to fulfill extension requests, you can create the extension itself.\n",
    "\n",
    "First, you'll define selection, invocation, and response examples:"
   ]
  },
  {
   "cell_type": "code",
   "execution_count": null,
   "metadata": {
    "id": "NgPF-bEhghL8"
   },
   "outputs": [],
   "source": [
    "# Include multiple selection, invocation, and response examples for best results.\n",
    "extension_selection_examples = [{\n",
    "    \"query\": \"I want to learn about the products\",\n",
    "    \"multi_steps\": [{\n",
    "        \"thought\": \"I should call astra_tool for this\",\n",
    "        \"extension_execution\": {\n",
    "          \"operation_id\": \"readData\",\n",
    "          \"extension_instruction\": \"Describe the product that you want to learn about\",\n",
    "          \"observation\": \"Product descriptions come from the description field\"\n",
    "        }\n",
    "      },\n",
    "      {\n",
    "        \"thought\": \"Since the observation was successful, I should respond back to the user with results\",\n",
    "        \"respond_to_user\": {}\n",
    "      }],\n",
    "}]\n",
    "\n",
    "extension_invocation_examples = [{\n",
    "      \"extension_instruction\": \"Tell me about your product.\",\n",
    "      \"operation_id\": \"readData\",\n",
    "      \"thought\": \"Issue a readData operation request on hello_astra tool\",\n",
    "      \"operation_param\": \"{\\\"prompt\\\": \\\"Tell me about the product.\\\"}\",\n",
    "      \"parameters_mentioned\": [\"prompt\"]\n",
    "}]\n",
    "\n",
    "extension_response_examples = [{\n",
    "  \"operation_id\": \"readData\",\n",
    "  \"response_template\": \"{{ response }}\",\n",
    "}]"
   ]
  },
  {
   "cell_type": "markdown",
   "metadata": {},
   "source": [
    "Then, you'll create your extension and include the examples from the previous cell:"
   ]
  },
  {
   "cell_type": "code",
   "execution_count": null,
   "metadata": {
    "id": "NgPF-bEhghL8"
   },
   "outputs": [],
   "source": [
    "extension_astra = llm_extension.Extension.create(\n",
    "    display_name = \"Read Astra\",\n",
    "    description = \"Loads data from AstraDB and returns it to the user\",\n",
    "    manifest = {\n",
    "        \"name\": \"astra_tool\",\n",
    "        \"description\": \"Access and process data from AstraDB\",\n",
    "        \"api_spec\": {\n",
    "            \"open_api_gcs_uri\": f\"gs://{BUCKET_NAME}/{extensions_prefix}/extension.yaml\"\n",
    "        },\n",
    "        \"auth_config\": {\n",
    "            \"auth_type\": \"NO_AUTH\",\n",
    "        },\n",
    "        \"extension_selection_examples\": extension_selection_examples,\n",
    "        \"extension_invocation_examples\": extension_invocation_examples,\n",
    "        \"extension_response_examples\": extension_response_examples,\n",
    "    },\n",
    ")\n",
    "extension_astra"
   ]
  },
  {
   "cell_type": "markdown",
   "metadata": {},
   "source": [
    "Now that you've create your extension, let's confirm that it's registered:"
   ]
  },
  {
   "cell_type": "code",
   "execution_count": null,
   "metadata": {
    "id": "0gQPqLe5aNiK"
   },
   "outputs": [],
   "source": [
    "print(\"Name:\", extension_astra.gca_resource.name)\n",
    "print(\"Display Name:\", extension_astra.display_name)\n",
    "print(\"Description:\", extension_astra.gca_resource.description)\n",
    "\n",
    "print(extension_astra.to_dict())"
   ]
  },
  {
   "cell_type": "markdown",
   "metadata": {},
   "source": [
    "And you can test the functionality of the extension by executing it:"
   ]
  },
  {
   "cell_type": "code",
   "execution_count": null,
   "metadata": {},
   "outputs": [],
   "source": [
    "extension_astra.execute(\"find_astra\",\n",
    "    operation_params = {token: token, api_endpoint: api_endpoint},  # TODO: Pass in vector or query!\n",
    ")"
   ]
  },
  {
   "cell_type": "markdown",
   "metadata": {
    "id": "2HGiVjFSaNiL"
   },
   "source": [
    "### Create a controller\n",
    "\n",
    "The extension controller allows an application developer to specify which extensions to use.\n",
    "\n",
    "You'll create an extension controller that refers to the extension/tool that you created in the previous section:"
   ]
  },
  {
   "cell_type": "code",
   "execution_count": null,
   "metadata": {
    "id": "MSSqbpBpaNiL"
   },
   "outputs": [],
   "source": [
    "# Define the extensions controller service client\n",
    "client_options = {\"api_endpoint\": f\"{REGION}-aiplatform.googleapis.com\"}\n",
    "controller_client = llm_extension.extensions.services.extension_controller_service.client.ExtensionControllerServiceClient(\n",
    "    client_options=client_options)\n",
    "\n",
    "controller_spec = llm_extension.gapic.types.ExtensionControllerSpec()\n",
    "\n",
    "controller_req = llm_extension.gapic.types.ExtensionController()\n",
    "controller_req.display_name = \"Astra DB Extension Controller\"\n",
    "controller_req.description = \"Loads data from Astra DB\"\n",
    "controller_req.extension_controller_spec.extensions = [{\"extension\": extension_astra.resource_name}]\n",
    "\n",
    "parent = f\"projects/{PROJECT_ID}/locations/{REGION}\"\n",
    "\n",
    "controller_op = controller_client.create_extension_controller(\n",
    "    parent=f\"projects/{PROJECT_ID}/locations/{REGION}\",\n",
    "    extension_controller=controller_req\n",
    ")\n",
    "controller = controller_op.result(timeout=300)\n",
    "print(controller.name)"
   ]
  },
  {
   "cell_type": "markdown",
   "metadata": {
    "id": "OxReDvQ_aNiL"
   },
   "source": [
    "### Use the controller in a query\n",
    "\n",
    "Now that you have an extension and an extension controller, you can start using the controller to answer queries."
   ]
  },
  {
   "cell_type": "code",
   "execution_count": null,
   "metadata": {
    "id": "QgFGLmVQaNiL"
   },
   "outputs": [],
   "source": [
    "execution_client = llm_extension.extensions.services.extension_controller_execution_service.client.ExtensionControllerExecutionServiceClient(\n",
    "    client_options=client_options\n",
    ")\n",
    "\n",
    "req = {\n",
    "    \"query\": {\n",
    "        \"query\": \"Question: Tell me about the product?\",\n",
    "    },\n",
    "    \"name\": controller.name,\n",
    "}\n",
    "\n",
    "response = execution_client.query(req)\n",
    "\n",
    "print(response)"
   ]
  },
  {
   "cell_type": "markdown",
   "metadata": {
    "id": "TpV-iwP9qw9c",
    "tags": []
   },
   "source": [
    "## Cleaning up\n",
    "\n",
    "To clean up all Google Cloud resources used in this project, you can [delete the Google Cloud\n",
    "project](https://cloud.google.com/resource-manager/docs/creating-managing-projects#shutting_down_projects) you used for the tutorial.\n",
    "\n",
    "Otherwise, you can delete the individual resources you created in this tutorial:"
   ]
  },
  {
   "cell_type": "code",
   "execution_count": null,
   "metadata": {
    "id": "sx_vKniMq9ZX"
   },
   "outputs": [],
   "source": [
    "# Delete the controller\n",
    "# op = controller_client.delete_extension_controller(name=controller.name)\n",
    "# op.result()\n",
    "\n",
    "# Delete the extension\n",
    "# extension_astra.delete()\n",
    "\n",
    "# Delete Cloud Storage objects that were created\n",
    "#delete_bucket = False\n",
    "#if delete_bucket or os.getenv(\"IS_TESTING\"):\n",
    "#! gsutil -m rm -r $BUCKET_URI"
   ]
  }
 ],
 "metadata": {
  "colab": {
   "provenance": []
  },
  "environment": {
   "kernel": "conda-root-py",
   "name": "workbench-notebooks.m111",
   "type": "gcloud",
   "uri": "gcr.io/deeplearning-platform-release/workbench-notebooks:m111"
  },
  "kernelspec": {
   "display_name": "Python 3 (ipykernel)",
   "language": "python",
   "name": "python3"
  },
  "language_info": {
   "codemirror_mode": {
    "name": "ipython",
    "version": 3
   },
   "file_extension": ".py",
   "mimetype": "text/x-python",
   "name": "python",
   "nbconvert_exporter": "python",
   "pygments_lexer": "ipython3",
   "version": "3.11.6"
  }
 },
 "nbformat": 4,
 "nbformat_minor": 4
}
