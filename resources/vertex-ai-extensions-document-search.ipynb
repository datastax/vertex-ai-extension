{
 "cells": [
  {
   "cell_type": "code",
   "execution_count": 1,
   "metadata": {
    "cellView": "form",
    "id": "peoGbEsXsevQ"
   },
   "outputs": [],
   "source": [
    "#@title LICENSE\n",
    "\n",
    "# Copyright 2023 Google LLC\n",
    "#\n",
    "# Licensed under the Apache License, Version 2.0 (the \"License\");\n",
    "# you may not use this file except in compliance with the License.\n",
    "# You may obtain a copy of the License at\n",
    "#\n",
    "#     https://www.apache.org/licenses/LICENSE-2.0\n",
    "#\n",
    "# Unless required by applicable law or agreed to in writing, software\n",
    "# distributed under the License is distributed on an \"AS IS\" BASIS,\n",
    "# WITHOUT WARRANTIES OR CONDITIONS OF ANY KIND, either express or implied.\n",
    "# See the License for the specific language governing permissions and\n",
    "# limitations under the License."
   ]
  },
  {
   "cell_type": "markdown",
   "metadata": {
    "id": "Auyojw_8smIc"
   },
   "source": [
    "# Use Vertex AI Extensions to query data in Vertex AI Search\n",
    "\n",
    "## Overview\n",
    "Vertex AI Extensions is a platform for creating and managing extensions that connect large language models to external systems via APIs. These external systems can provide LLMs with real-time data and perform data processing actions on their behalf. You can use pre-built or third-party extensions in Vertex AI Extensions.\n",
    "\n",
    "Learn more about [Vertex AI Extensions](https://cloud.google.com/vertex-ai/docs/generative-ai/extensions/private/overview).\n",
    "\n",
    "The Vertex AI search extension (YAML) provides access to data indexed in [Vertex AI Search](https://cloud.google.com/generative-ai-app-builder/docs/try-enterprise-search). This extension can handle user queries and send summaries back to users. It allows users take advantage of an LLM agent to perform various tasks such as answering user's questions over documents and data.\n",
    "\n",
    "The steps performed include:\n",
    "\n",
    "- Creating a pre-built extension in your project\n",
    "- Getting detailed information about the extension\n",
    "- Setting up various queries to the extension\n",
    "- Running the extension and working with data store and results\n",
    "\n",
    "### Additional information\n",
    "\n",
    "This tutorial uses the following Google Cloud services and resources:\n",
    "- Vertex AI Extensions\n",
    "- Vertex AI Search\n",
    "\n",
    "**NOTE**: This notebook has been tested in the following environment:\n",
    "\n",
    "- Python version = 3.11"
   ]
  },
  {
   "cell_type": "markdown",
   "metadata": {
    "id": "3xSlnXEVnWzV"
   },
   "source": [
    "### Authenticate your Google Cloud account\n",
    "\n",
    "You must authenticate to Google Cloud to access the pre-release version of the Python SDK and the Vertex AI Extensions feature."
   ]
  },
  {
   "cell_type": "code",
   "execution_count": 7,
   "metadata": {
    "id": "L6QFEIwHnb64"
   },
   "outputs": [],
   "source": [
    "import sys\n",
    "\n",
    "if \"google.colab\" in sys.modules:\n",
    "    # Authenticate user to Google Cloud\n",
    "    from google.colab import auth\n",
    "    auth.authenticate_user()"
   ]
  },
  {
   "cell_type": "markdown",
   "metadata": {},
   "source": [
    "### Installation\n",
    "\n",
    "This tutorial requires a pre-release version of the Python SDK for Vertex AI. You must be logged in with credentials that are registered for the Vertex AI Extensions Private Preview.\n",
    "\n",
    "Run the following command to download the library as a wheel from a Cloud Storage bucket:"
   ]
  },
  {
   "cell_type": "code",
   "execution_count": 2,
   "metadata": {},
   "outputs": [],
   "source": [
    "!gsutil cp gs://vertex_sdk_private_releases/llm_extension/google_cloud_aiplatform-1.39.dev20231219+llm.extension-py2.py3-none-any.whl ."
   ]
  },
  {
   "cell_type": "markdown",
   "metadata": {},
   "source": [
    "Then, install the following packages required to execute this notebook:"
   ]
  },
  {
   "cell_type": "code",
   "execution_count": 3,
   "metadata": {},
   "outputs": [],
   "source": [
    "!pip install --force-reinstall --quiet google_cloud_aiplatform-1.39.dev20231219+llm.extension-py2.py3-none-any.whl"
   ]
  },
  {
   "cell_type": "markdown",
   "metadata": {},
   "source": [
    "Restart the kernel after installing packages:"
   ]
  },
  {
   "cell_type": "code",
   "execution_count": 4,
   "metadata": {},
   "outputs": [],
   "source": [
    "import IPython\n",
    "app = IPython.Application.instance()\n",
    "app.kernel.do_shutdown(True)"
   ]
  },
  {
   "cell_type": "markdown",
   "metadata": {
    "id": "EvTCjdWumbRz"
   },
   "source": [
    "## Before you begin\n",
    "\n",
    "### Set up your Google Cloud project\n",
    "\n",
    "**The following steps are required**, regardless of your notebook environment.\n",
    "\n",
    "- [Select or create a Google Cloud project](https://pantheon.corp.google.com/cloud-resource-manager). When you first create an account, you get a $300 free credit towards your compute/storage costs.\n",
    "- [Make sure that billing is enabled for your project](https://cloud.google.com/billing/docs/how-to/modify-project).\n",
    "- [Enable the Vertex AI API](https://pantheon.corp.google.com/apis/enableflow?apiid=aiplatform.googleapis.com).\n",
    "- If you are running this notebook locally, you need to install the [Cloud SDK](https://cloud.google.com/sdk?hl=en).\n",
    "- Your project must also be allowlisted for the Vertex AI Extension Private Preview.\n",
    "\n",
    "This notebook requires that you have the following permissions for your GCP project: `roles/aiplatform.user`"
   ]
  },
  {
   "cell_type": "markdown",
   "metadata": {
    "id": "8UMIVW2Wlyyz"
   },
   "source": [
    "### Set your project ID\n",
    "\n",
    "**If you don't know your project ID**, try the following:\n",
    "\n",
    "- Run `gcloud config list`.\n",
    "- Run `gcloud projects list`.\n",
    "- See the support page: [Locate the project ID](https://support.google.com/googleapi/answer/7014113)"
   ]
  },
  {
   "cell_type": "code",
   "execution_count": 5,
   "metadata": {
    "colab": {
     "base_uri": "https://localhost:8080/"
    },
    "id": "oM1iC_MfAts1",
    "outputId": "1481ffe2-c0ff-43c6-e8fa-a6cab7e0a489"
   },
   "outputs": [
    {
     "name": "stdout",
     "output_type": "stream",
     "text": [
      "Updated property [core/project].\n"
     ]
    }
   ],
   "source": [
    "PROJECT_ID = \"your-project-id\"  # @param {type:\"string\"}\n",
    "\n",
    "# Set the project ID\n",
    "!gcloud config set project {PROJECT_ID}"
   ]
  },
  {
   "cell_type": "markdown",
   "metadata": {
    "id": "4xHEgW6Dm1qR"
   },
   "source": [
    "### Region\n",
    "\n",
    "You can also change the REGION variable used by Vertex AI. Learn more about [Vertex AI regions](https://cloud.google.com/vertex-ai/docs/general/locations)."
   ]
  },
  {
   "cell_type": "code",
   "execution_count": 6,
   "metadata": {
    "id": "Cg9uNa6rlyWx"
   },
   "outputs": [],
   "source": [
    "# Set the region\n",
    "REGION = \"us-central1\"  # @param {type: \"string\"}"
   ]
  },
  {
   "cell_type": "markdown",
   "metadata": {
    "id": "qTYY1sD6oLfc"
   },
   "source": [
    "### Import libraries"
   ]
  },
  {
   "cell_type": "code",
   "execution_count": 8,
   "metadata": {
    "id": "Q6DICareoHh7"
   },
   "outputs": [],
   "source": [
    "import base64\n",
    "import io\n",
    "import json\n",
    "import pprint\n",
    "import requests\n",
    "\n",
    "import vertexai\n",
    "from google.cloud.aiplatform.private_preview import llm_extension\n",
    "\n",
    "from PIL import Image"
   ]
  },
  {
   "cell_type": "markdown",
   "metadata": {
    "id": "cEhQM91PoSFh"
   },
   "source": [
    "### Initialize Vertex AI SDK for Python\n",
    "\n",
    "Initialize the Vertex AI SDK for Python for your project."
   ]
  },
  {
   "cell_type": "code",
   "execution_count": 9,
   "metadata": {
    "id": "rG7OPxv_oWM4"
   },
   "outputs": [],
   "source": [
    "vertexai.init(project=PROJECT_ID, location=REGION)"
   ]
  },
  {
   "cell_type": "markdown",
   "metadata": {
    "id": "utxoHcFSoXgU"
   },
   "source": [
    "## Working with Vertex AI Extensions\n",
    "\n",
    "### Create the extension\n",
    "\n",
    "Now you can create the extension itself. The following cell uses the Python SDK to create the extension in Vertex AI Extensions."
   ]
  },
  {
   "cell_type": "code",
   "execution_count": 10,
   "metadata": {
    "id": "XV6tP2TDodhm"
   },
   "outputs": [
    {
     "name": "stdout",
     "output_type": "stream",
     "text": [
      "Creating Extension\n",
      "Create Extension backing LRO: projects/964731510884/locations/us-central1/extensions/4349632815109767168/operations/2828402334269177856\n",
      "Extension created. Resource name: projects/964731510884/locations/us-central1/extensions/4349632815109767168\n",
      "To use this Extension in another session:\n",
      "extension = aiplatform.Extension('projects/964731510884/locations/us-central1/extensions/4349632815109767168')\n"
     ]
    },
    {
     "data": {
      "text/plain": [
       "<google.cloud.aiplatform.private_preview.llm_extension.extensions.Extension object at 0x161337990> \n",
       "resource name: projects/964731510884/locations/us-central1/extensions/4349632815109767168"
      ]
     },
     "execution_count": 10,
     "metadata": {},
     "output_type": "execute_result"
    }
   ],
   "source": [
    "extension_vertex_ai_search = llm_extension.Extension.create(\n",
    "    display_name = \"Vertex AI Search\",\n",
    "    description = \"This extension executes queries against indexed data in Vertex AI Search\",\n",
    "    manifest = {\n",
    "        \"name\": \"vertex_ai_search\",\n",
    "        \"description\": \"Vertex AI Search Extension\",\n",
    "        \"api_spec\": {\n",
    "            \"open_api_gcs_uri\": \"gs://vertex-extension-dev/discovery_search.yaml\"\n",
    "        },\n",
    "        \"auth_config\": {\n",
    "            \"auth_type\": \"GOOGLE_SERVICE_ACCOUNT_AUTH\",\n",
    "            \"google_service_account_config\": {},\n",
    "        },\n",
    "    },\n",
    ")\n",
    "extension_vertex_ai_search"
   ]
  },
  {
   "cell_type": "markdown",
   "metadata": {
    "id": "Q_gvLWopotp-"
   },
   "source": [
    "Now that you've imported the Vertex AI Search Extension, let's confirm that it's registered:"
   ]
  },
  {
   "cell_type": "code",
   "execution_count": 11,
   "metadata": {
    "colab": {
     "base_uri": "https://localhost:8080/"
    },
    "id": "5FHvrIq6ox-_",
    "outputId": "8e337a01-bb20-4afd-f941-803c86c0fe61"
   },
   "outputs": [
    {
     "name": "stdout",
     "output_type": "stream",
     "text": [
      "Name: projects/964731510884/locations/us-central1/extensions/4349632815109767168\n",
      "Display Name: Vertex AI Search\n",
      "Description: This extension executes queries against indexed data in Vertex AI Search\n"
     ]
    }
   ],
   "source": [
    "print(\"Name:\", extension_vertex_ai_search.gca_resource.name)\n",
    "print(\"Display Name:\", extension_vertex_ai_search.display_name)\n",
    "print(\"Description:\", extension_vertex_ai_search.gca_resource.description)"
   ]
  },
  {
   "cell_type": "markdown",
   "metadata": {},
   "source": [
    "### Create a search app and data store in Vertex AI Search\n",
    "\n",
    "Follow the steps in the Vertex AI Search documentation to [Create a search app for website data](https://cloud.google.com/generative-ai-app-builder/docs/try-enterprise-search#create_a_search_app_for_website_data). In this example, you'll use a website-based data store that contains content from the Google Cloud website, including documentation.\n",
    "\n",
    "Once you've created a data store, obtain the Data Store ID and input it below:"
   ]
  },
  {
   "cell_type": "code",
   "execution_count": 12,
   "metadata": {
    "id": "OOx8npVhpNce"
   },
   "outputs": [],
   "source": [
    "DATA_STORE_ID = \"your-data-store-id_1234567890123\"  # Replace this with your data store ID from Vertex AI Search\n",
    "DATA_STORE_REGION = \"global\"  # Replace this with the region that your data store is located in\n",
    "\n",
    "# Construct an object that points to the relevant data store\n",
    "DATASTORE = \"projects/{project_id}/locations/{data_store_region}/collections/default_collection/dataStores/{data_store_id}/servingConfigs/default_search\".format(project_id=PROJECT_ID, data_store_region=DATA_STORE_REGION, data_store_id=DATA_STORE_ID)"
   ]
  },
  {
   "cell_type": "markdown",
   "metadata": {
    "id": "OOx8npVhpNce"
   },
   "source": [
    "### Search across Google Cloud documentation\n",
    "\n",
    "In this example, we'll send a simple prompt asking about BigQuery:"
   ]
  },
  {
   "cell_type": "code",
   "execution_count": 13,
   "metadata": {
    "colab": {
     "base_uri": "https://localhost:8080/"
    },
    "id": "bTzWWH6sFZJ6",
    "outputId": "f46201d9-214d-4440-e3e3-47734d6affe2"
   },
   "outputs": [],
   "source": [
    "QUERY = \"What is BigQuery\" # @param {type:\"string\"}"
   ]
  },
  {
   "cell_type": "code",
   "execution_count": 14,
   "metadata": {
    "colab": {
     "base_uri": "https://localhost:8080/"
    },
    "id": "C7pjV7cupcN3",
    "outputId": "90e8b71b-06f2-455d-8d8e-1c9ad19ee6e2"
   },
   "outputs": [],
   "source": [
    "response = extension_vertex_ai_search.execute(\n",
    "    \"Search\",\n",
    "    operation_params = {\n",
    "        \"query\": QUERY,\n",
    "        \"serving_config\": DATASTORE\n",
    "    },\n",
    ")"
   ]
  },
  {
   "cell_type": "markdown",
   "metadata": {},
   "source": [
    "Now you can extract the documents and web pages that are relevant to your query:"
   ]
  },
  {
   "cell_type": "code",
   "execution_count": 15,
   "metadata": {},
   "outputs": [
    {
     "name": "stdout",
     "output_type": "stream",
     "text": [
      "Title: \t BigQuery overview | Google Cloud\n",
      "Snippet: BigQuery stores data using a columnar storage format that is optimized for analytical queries. BigQuery presents data in tables, rows, and columns and provides ...\n",
      "Link: \t https://cloud.google.com/bigquery/docs/introduction\n",
      "\n",
      "Title: \t BigQuery Enterprise Data Warehouse\n",
      "Snippet: BigQuery is Google Cloud's fully managed and completely serverless enterprise data warehouse. BigQuery supports all data types, works across clouds, and has ...\n",
      "Link: \t https://cloud.google.com/bigquery\n",
      "\n",
      "Title: \t Pricing | BigQuery: Cloud Data Warehouse | Google Cloud\n",
      "Snippet: BigQuery is a serverless data analytics platform. You don't need to provision individual instances or virtual machines to use BigQuery. Instead, BigQuery ...\n",
      "Link: \t https://cloud.google.com/bigquery/pricing\n",
      "\n",
      "Title: \t BigQuery documentation | Google Cloud\n",
      "Snippet: Use cases. Explore use cases, reference architectures, whitepapers, best practices, and industry solutions. ... Learn patterns and recommendations for ...\n",
      "Link: \t https://cloud.google.com/bigquery/docs\n",
      "\n",
      "Title: \t What is BI Engine? | BigQuery | Google Cloud\n",
      "Snippet: BI Engine can accelerate SQL queries from any source, including those written by data visualization tools, and can manage cached tables for on-going ...\n",
      "Link: \t https://cloud.google.com/bigquery/docs/bi-engine-intro\n",
      "\n",
      "Title: \t Introduction to BigQuery ML | Google Cloud\n",
      "Snippet: More videos on YouTube ... BigQuery ML lets you create and run machine learning (ML) models by using GoogleSQL queries. It also lets you access LLMs and Cloud AI ...\n",
      "Link: \t https://cloud.google.com/bigquery/docs/bqml-introduction\n",
      "\n",
      "Title: \t BigQuery Omni for multi-cloud data analytics | Google Cloud Blog\n",
      "Snippet: Jul 14, 2020 ... BigQuery Omni, powered by Anthos, lets you analyze data in Google Cloud, as well as AWS and Azure (coming soon). It's multi-cloud data ...\n",
      "Link: \t https://cloud.google.com/blog/products/data-analytics/introducing-bigquery-omni\n",
      "\n",
      "Title: \t BigQuery API | Google Cloud\n",
      "Snippet: Oct 10, 2022 ... Platform for BI, data applications, and embedded analytics. ... Manage the full life cycle of APIs anywhere with visibility and control. Cloud SQL.\n",
      "Link: \t https://cloud.google.com/bigquery/docs/reference/rest\n",
      "\n",
      "Title: \t Understand slots | BigQuery | Google Cloud\n",
      "Snippet: Understand slots ... A BigQuery slot is a virtual CPU used by BigQuery to execute SQL queries. During the query execution, BigQuery automatically calculates how ...\n",
      "Link: \t https://cloud.google.com/bigquery/docs/slots\n",
      "\n",
      "Title: \t What is BigQuery Data Transfer Service? | Google Cloud\n",
      "Snippet: The BigQuery Data Transfer Service automates data movement into BigQuery on a scheduled, managed basis. Your analytics team can lay the foundation for a ...\n",
      "Link: \t https://cloud.google.com/bigquery/docs/dts-introduction\n",
      "\n"
     ]
    }
   ],
   "source": [
    "for i in response[\"results\"]:\n",
    "    print(\"Title:\", \"\\t\", i[\"document\"][\"derivedStructData\"][\"title\"])\n",
    "    print(\"Snippet:\", i[\"document\"][\"derivedStructData\"][\"snippets\"][0][\"snippet\"])\n",
    "    print(\"Link:\", \"\\t\", i[\"document\"][\"derivedStructData\"][\"link\"])\n",
    "    print()"
   ]
  },
  {
   "cell_type": "markdown",
   "metadata": {
    "id": "0hWd_pSspe09"
   },
   "source": [
    "The output from calling the extension includes a response object from Vertex AI Search that includes information about the relevant documents and other metadata."
   ]
  },
  {
   "cell_type": "markdown",
   "metadata": {
    "id": "WMHXhHATphwP"
   },
   "source": [
    "## Clean up\n",
    "\n",
    "To clean up all Google Cloud resources used in this project, you can [delete the Google Cloud project](https://cloud.google.com/resource-manager/docs/creating-managing-projects#shutting_down_projects) you used for the tutorial.\n",
    "\n",
    "Otherwise, you can delete the individual resources that you created in this tutorial:"
   ]
  },
  {
   "cell_type": "code",
   "execution_count": 16,
   "metadata": {
    "id": "fO2WbESwprLd"
   },
   "outputs": [
    {
     "name": "stdout",
     "output_type": "stream",
     "text": [
      "Deleting Extension : projects/964731510884/locations/us-central1/extensions/4349632815109767168\n",
      "Delete Extension  backing LRO: projects/964731510884/locations/us-central1/operations/3736581346626109440\n",
      "Extension deleted. . Resource name: projects/964731510884/locations/us-central1/extensions/4349632815109767168\n"
     ]
    }
   ],
   "source": [
    "# Delete the extension\n",
    "extension_vertex_ai_search.delete()"
   ]
  }
 ],
 "metadata": {
  "colab": {
   "provenance": []
  },
  "kernelspec": {
   "display_name": "Python 3 (ipykernel)",
   "language": "python",
   "name": "python3"
  },
  "language_info": {
   "codemirror_mode": {
    "name": "ipython",
    "version": 3
   },
   "file_extension": ".py",
   "mimetype": "text/x-python",
   "name": "python",
   "nbconvert_exporter": "python",
   "pygments_lexer": "ipython3",
   "version": "3.11.6"
  }
 },
 "nbformat": 4,
 "nbformat_minor": 4
}
