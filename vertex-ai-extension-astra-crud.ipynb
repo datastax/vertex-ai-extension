{
 "cells": [
  {
   "cell_type": "code",
   "execution_count": null,
   "metadata": {
    "cellView": "form",
    "id": "ur8xi4C7S06n"
   },
   "outputs": [],
   "source": [
    "#@title LICENSE\n",
    "\n",
    "# Copyright 2023 Google LLC\n",
    "#\n",
    "# Licensed under the Apache License, Version 2.0 (the \"License\");\n",
    "# you may not use this file except in compliance with the License.\n",
    "# You may obtain a copy of the License at\n",
    "#\n",
    "#     https://www.apache.org/licenses/LICENSE-2.0\n",
    "#\n",
    "# Unless required by applicable law or agreed to in writing, software\n",
    "# distributed under the License is distributed on an \"AS IS\" BASIS,\n",
    "# WITHOUT WARRANTIES OR CONDITIONS OF ANY KIND, either express or implied.\n",
    "# See the License for the specific language governing permissions and\n",
    "# limitations under the License."
   ]
  },
  {
   "cell_type": "markdown",
   "metadata": {
    "id": "tvgnzT1CKxrO"
   },
   "source": [
    "# Use Vertex AI Extensions with a Custom Extension\n",
    "\n",
    "## Overview\n",
    "\n",
    "\n",
    "Vertex AI Extensions is a platform for creating and managing extensions that connect large language models to external systems via APIs. These external systems can provide LLMs with real-time data and perform data processing actions on their behalf. You can use pre-built or third-party extensions in Vertex AI Extensions.\n",
    "\n",
    "Learn more about [Vertex AI Extensions](https://cloud.google.com/vertex-ai/docs/generative-ai/extensions/private/overview).\n",
    "\n",
    "This notebook provides a simple getting started experience for the Vertex AI Extensions framework. This guide assumes that you are familiar with the Vertex AI Python SDK, [LangChain](https://python.langchain.com/docs/get_started/introduction), [OpenAPI specification](https://swagger.io/specification/), and [Cloud Run](https://cloud.google.com/run/docs).\n",
    "\n",
    "### Objective\n",
    "\n",
    "In this tutorial, you learn how to create an extension service backend on Cloud Run, register the extension with Vertex, and then use the extension in an application.\n",
    "\n",
    "The steps performed include:\n",
    "\n",
    "- Creating a simple service running on Cloud Run\n",
    "- Creating an OpenAPI 3.1 YAML file for the Cloud Run service\n",
    "- Registering the service as an extension with Vertex AI\n",
    "- Using the extension to respond to user queries\n",
    "- Integrate LangChain into the reasoning for an extension\n",
    "\n",
    "### Additional Information\n",
    "\n",
    "This tutorial uses the following Google Cloud services and resources:\n",
    "\n",
    "- Vertex AI Extensions\n",
    "- Cloud Run\n",
    "\n",
    "**_NOTE_**: This notebook has been tested in the following environment:\n",
    "\n",
    "* Python version = 3.11"
   ]
  },
  {
   "cell_type": "markdown",
   "metadata": {
    "id": "n2OYMHXO8gjT"
   },
   "source": [
    "### Authenticate your Google Cloud account\n",
    "\n",
    "You must authenticate to Google Cloud to access the pre-release version of the Python SDK and the Vertex AI Extensions feature."
   ]
  },
  {
   "cell_type": "code",
   "execution_count": 1,
   "metadata": {
    "id": "603adbbf0532"
   },
   "outputs": [],
   "source": [
    "import sys\n",
    "\n",
    "if \"google.colab\" in sys.modules:\n",
    "    # Authenticate user to Google Cloud\n",
    "    from google.colab import auth\n",
    "    auth.authenticate_user()"
   ]
  },
  {
   "cell_type": "markdown",
   "metadata": {
    "id": "i7EUnXsZhAGF"
   },
   "source": [
    "### Installation\n",
    "\n",
    "This tutorial requires a pre-release version of the Python SDK for Vertex AI. You must be logged in with credentials that are registered for the Vertex AI Extensions Private Preview.\n",
    "\n",
    "Run the following command to download the library as a wheel from a Cloud Storage bucket:"
   ]
  },
  {
   "cell_type": "code",
   "execution_count": null,
   "metadata": {},
   "outputs": [],
   "source": [
    "!gsutil cp gs://vertex_sdk_private_releases/llm_extension/google_cloud_aiplatform-1.39.dev20231219+llm.extension-py2.py3-none-any.whl .\n",
    "#!gsutil cp gs://vertex_sdk_private_releases/llm_extension/google_cloud_aiplatform-1.40.dev20240124+llm.extension-py2.py3-none-any.whl ."
   ]
  },
  {
   "cell_type": "markdown",
   "metadata": {},
   "source": [
    "Then, install the following packages required to execute this notebook:"
   ]
  },
  {
   "cell_type": "code",
   "execution_count": null,
   "metadata": {
    "id": "A1MlayQHghLz"
   },
   "outputs": [],
   "source": [
    "!pip install --force-reinstall --quiet google_cloud_aiplatform-1.39.dev20231219+llm.extension-py2.py3-none-any.whl\n",
    "#!pip install --force-reinstall --quiet google_cloud_aiplatform-1.40.dev20240124+llm.extension-py2.py3-none-any.whl\n",
    "#\"openapi-schema-pydantic==1.2.4\" \\\n",
    "#\"openapi-pydantic==0.3.2\" \\\n",
    "#\"google-cloud-storage\" \\\n",
    "#\"shapely<2\""
   ]
  },
  {
   "cell_type": "markdown",
   "metadata": {
    "id": "d5RDjT_98gjU"
   },
   "source": [
    "Restart the kernel after installing packages:"
   ]
  },
  {
   "cell_type": "code",
   "execution_count": null,
   "metadata": {
    "id": "f200f10a1da3"
   },
   "outputs": [],
   "source": [
    "import IPython\n",
    "app = IPython.Application.instance()\n",
    "app.kernel.do_shutdown(True)"
   ]
  },
  {
   "cell_type": "markdown",
   "metadata": {
    "id": "WReHDGG5g0XY"
   },
   "source": [
    "## Before you begin\n",
    "\n",
    "### Set up your Google Cloud project\n",
    "\n",
    "**The following steps are required, regardless of your notebook environment.**\n",
    "\n",
    "1. [Select or create a Google Cloud project](https://console.cloud.google.com/cloud-resource-manager). When you first create an account, you get a $300 free credit towards your compute/storage costs.\n",
    "1. [Make sure that billing is enabled for your project](https://cloud.google.com/billing/docs/how-to/modify-project).\n",
    "1. [Enable the Vertex AI API](https://console.cloud.google.com/flows/enableapi?apiid=aiplatform.googleapis.com).\n",
    "1. If you are running this notebook locally, you need to install the [Cloud SDK](https://cloud.google.com/sdk).\n",
    "1. Your project must also be allowlisted for the Vertex AI Extension Private Preview.\n",
    "1. This notebook requires that you have the following permissions for your GCP project:\n",
    "- `roles/aiplatform.user`\n",
    "\n",
    "### Set your project ID\n",
    "\n",
    "**If you don't know your project ID**, try the following:\n",
    "* Run `gcloud config list`.\n",
    "* Run `gcloud projects list`.\n",
    "* See the support page: [Locate the project ID](https://support.google.com/googleapi/answer/7014113)"
   ]
  },
  {
   "cell_type": "code",
   "execution_count": 2,
   "metadata": {
    "id": "oM1iC_MfAts1"
   },
   "outputs": [
    {
     "name": "stdout",
     "output_type": "stream",
     "text": [
      "Updated property [core/project].\n"
     ]
    }
   ],
   "source": [
    "PROJECT_ID = \"integrations-379317\"  # @param {type:\"string\"}\n",
    "\n",
    "# Set the project id\n",
    "!gcloud config set project {PROJECT_ID}"
   ]
  },
  {
   "cell_type": "markdown",
   "metadata": {
    "id": "region"
   },
   "source": [
    "### Region\n",
    "\n",
    "You can also change the `REGION` variable used by Vertex AI. Learn more about [Vertex AI regions](https://cloud.google.com/vertex-ai/docs/general/locations)."
   ]
  },
  {
   "cell_type": "code",
   "execution_count": 3,
   "metadata": {},
   "outputs": [],
   "source": [
    "REGION = \"us-central1\"  # @param {type: \"string\"}"
   ]
  },
  {
   "cell_type": "markdown",
   "metadata": {
    "id": "zgPO1eR3CYjk"
   },
   "source": [
    "### Create a Cloud Storage bucket\n",
    "\n",
    "Create a storage bucket to store intermediate artifacts such as datasets."
   ]
  },
  {
   "cell_type": "code",
   "execution_count": 4,
   "metadata": {
    "id": "MzGDU7TWdts_"
   },
   "outputs": [],
   "source": [
    "BUCKET_NAME = \"vai-bucket\"  # @param {type:\"string\"}\n",
    "BUCKET_URI = f\"gs://{BUCKET_NAME}\""
   ]
  },
  {
   "cell_type": "markdown",
   "metadata": {
    "id": "-EcIXiGsCePi"
   },
   "source": [
    "**Only if your bucket doesn't already exist**: Run the following cell to create your Cloud Storage bucket."
   ]
  },
  {
   "cell_type": "code",
   "execution_count": null,
   "metadata": {
    "id": "NIq7R4HZCfIc"
   },
   "outputs": [],
   "source": [
    "!gsutil mb -l $REGION -p $PROJECT_ID $BUCKET_URI"
   ]
  },
  {
   "cell_type": "markdown",
   "metadata": {
    "id": "960505627ddf"
   },
   "source": [
    "### Import libraries\n",
    "\n"
   ]
  },
  {
   "cell_type": "code",
   "execution_count": 5,
   "metadata": {
    "id": "PyQmSRbKA8r-"
   },
   "outputs": [],
   "source": [
    "import os\n",
    "\n",
    "import vertexai\n",
    "from google.cloud.aiplatform.private_preview import llm_extension\n",
    "from google.cloud import storage"
   ]
  },
  {
   "cell_type": "markdown",
   "metadata": {
    "id": "init_aip:mbsdk,all"
   },
   "source": [
    "### Initialize Vertex AI SDK for Python\n",
    "\n",
    "Initialize the Vertex AI SDK for Python for your project."
   ]
  },
  {
   "cell_type": "code",
   "execution_count": 6,
   "metadata": {
    "id": "ABew50yughL0"
   },
   "outputs": [],
   "source": [
    "vertexai.init(project=PROJECT_ID, location=REGION, staging_bucket=BUCKET_URI)"
   ]
  },
  {
   "cell_type": "markdown",
   "metadata": {
    "id": "rkjLDSj2ghL0"
   },
   "source": [
    "## Creating an API backend service\n",
    "\n",
    "In this tutorial, you create a simple \"hello world\" service that runs on Cloud Run. This service returns \"hello\" in one of several languages, depending on the prompt sent from your extension (more on that later).\n",
    "\n",
    "This simple example does not demonstrate best practices for authentication. Authenticating to your service is covered later.\n",
    "\n",
    "**Note**: Your backend API service does not need to be hosted on Cloud Run.\n",
    "\n",
    "### Deploy the API service to Cloud Run"
   ]
  },
  {
   "cell_type": "code",
   "execution_count": 7,
   "metadata": {
    "id": "4JebL18KghL1"
   },
   "outputs": [],
   "source": [
    "EXTENSION_PATH = \"astra-crud-extension\"\n",
    "\n",
    "if not os.path.exists(EXTENSION_PATH):\n",
    "    os.mkdir(EXTENSION_PATH)"
   ]
  },
  {
   "cell_type": "code",
   "execution_count": 8,
   "metadata": {
    "id": "eIR46NIKghL1"
   },
   "outputs": [
    {
     "name": "stdout",
     "output_type": "stream",
     "text": [
      "Overwriting astra-crud-extension/Dockerfile\n"
     ]
    }
   ],
   "source": [
    "%%writefile astra-crud-extension/Dockerfile\n",
    "\n",
    "FROM python:3.11-slim\n",
    "\n",
    "ENV PYTHONUNBUFFERED True\n",
    "\n",
    "ENV APP_HOME /app\n",
    "WORKDIR $APP_HOME\n",
    "COPY . ./\n",
    "\n",
    "RUN pip install --no-cache-dir -r requirements.txt\n",
    "\n",
    "CMD exec gunicorn --bind :$PORT --workers 1 --threads 8 --timeout 0 extension:app"
   ]
  },
  {
   "cell_type": "code",
   "execution_count": 9,
   "metadata": {
    "id": "X0u_OixcghL6"
   },
   "outputs": [
    {
     "name": "stdout",
     "output_type": "stream",
     "text": [
      "Overwriting astra-crud-extension/extension.py\n"
     ]
    }
   ],
   "source": [
    "%%writefile astra-crud-extension/extension.py\n",
    "from flask import Flask, jsonify, request\n",
    "\n",
    "from google.cloud import secretmanager\n",
    "\n",
    "from astrapy.db import AstraDB\n",
    "\n",
    "import os\n",
    "import uuid\n",
    "\n",
    "# Set the path to the service account file\n",
    "os.environ[\"GOOGLE_APPLICATION_CREDENTIALS\"] = \"integrations-379317-480fb9eb65d2.json\"\n",
    "\n",
    "# Provide the GCP Project ID\n",
    "project_id = os.environ.get(\"PROJECT_ID\", \"747469159044\")\n",
    "\n",
    "# Access the secret client\n",
    "secret_client = secretmanager.SecretManagerServiceClient()\n",
    "\n",
    "# Next, access the secret for the Astra Token\n",
    "secret_id = \"ASTRA_DB_APPLICATION_TOKEN\"\n",
    "version_id = 1\n",
    "secret_name = f'projects/{project_id}/secrets/{secret_id}/versions/{version_id}'\n",
    "response = secret_client.access_secret_version(request={\"name\": secret_name})\n",
    "DEFAULT_TOKEN = response.payload.data.decode(\"UTF-8\")\n",
    "\n",
    "# Next, access the secret for the Astra DB Endpoint\n",
    "secret_id = \"ASTRA_DB_API_ENDPOINT\"\n",
    "version_id = 1\n",
    "secret_name = f'projects/{project_id}/secrets/{secret_id}/versions/{version_id}'\n",
    "response = secret_client.access_secret_version(request={\"name\": secret_name})\n",
    "DEFAULT_API_ENDPOINT = response.payload.data.decode(\"UTF-8\")\n",
    "\n",
    "\n",
    "app = Flask(__name__)\n",
    "\n",
    "\n",
    "@app.route(\"/\", methods=[\"GET\"])\n",
    "def hello_world():\n",
    "    data = {\"message\": \"Hello, World!\"}\n",
    "    \n",
    "    return jsonify(data)\n",
    "\n",
    "\n",
    "@app.route(\"/readData\", methods=[\"POST\"])\n",
    "def read_astra():\n",
    "    params = request.json\n",
    "\n",
    "    # Grab the Astra token and api endpoint from the environment\n",
    "    token = params.get(\"token\", DEFAULT_TOKEN)\n",
    "    api_endpoint = params.get(\"api_endpoint\", DEFAULT_API_ENDPOINT)\n",
    "\n",
    "    # Error out if we don't have the token or api_endpoint\n",
    "    if not token or not api_endpoint:\n",
    "        return jsonify({\"error\": \"token or api_endpoint not provided\"})\n",
    "\n",
    "    # Optional Params for the astra call\n",
    "    table = params.get(\"tableName\", \"test\")\n",
    "    filter = params.get(\"filter\", None)\n",
    "\n",
    "    # Call the vector find operation\n",
    "    astra_db = AstraDB(token=token, api_endpoint=api_endpoint)\n",
    "    astra_db_collection = astra_db.collection(table)\n",
    "    data = astra_db_collection.find(filter=filter)\n",
    "\n",
    "    return jsonify(data)\n",
    "\n",
    "\n",
    "@app.route(\"/insertData\", methods=[\"POST\"])\n",
    "def insert_astra():\n",
    "    params = request.json\n",
    "\n",
    "    # Grab the Astra token and api endpoint from the environment\n",
    "    token = params.get(\"token\", DEFAULT_TOKEN)\n",
    "    api_endpoint = params.get(\"api_endpoint\", DEFAULT_API_ENDPOINT)\n",
    "\n",
    "    # Error out if we don't have the token or api_endpoint\n",
    "    if not token or not api_endpoint:\n",
    "        return jsonify({\"error\": \"token or api_endpoint not provided\"})\n",
    "\n",
    "    # Some example data\n",
    "    doc = {\n",
    "        \"_id\": str(uuid.uuid4()),\n",
    "        \"name\": \"Coded Cleats Copy\",\n",
    "        \"description\": \"ChatGPT integrated sneakers that talk to you\",\n",
    "        \"$vector\": [0.25, 0.25, 0.25, 0.25, 0.25],\n",
    "    }\n",
    "\n",
    "    # Optional Params for the astra call\n",
    "    table = params.get(\"tableName\", \"test\")\n",
    "    data = params.get(\"data\", doc)\n",
    "\n",
    "    # Initialize our vector db\n",
    "    astra_db = AstraDB(token=token, api_endpoint=api_endpoint)\n",
    "    astra_db_collection = astra_db.create_collection(table, dimension=5)\n",
    "\n",
    "    # Insert a document into the test collection\n",
    "    data = astra_db_collection.insert_one(data)\n",
    "\n",
    "    return jsonify(data)\n",
    "\n",
    "\n",
    "@app.route(\"/updateData\", methods=[\"POST\"])\n",
    "def update_astra():\n",
    "    params = request.json\n",
    "\n",
    "    # Grab the Astra token and api endpoint from the environment\n",
    "    token = params.get(\"token\", DEFAULT_TOKEN)\n",
    "    api_endpoint = params.get(\"api_endpoint\", DEFAULT_API_ENDPOINT)\n",
    "\n",
    "    # Error out if we don't have the token or api_endpoint\n",
    "    if not token or not api_endpoint:\n",
    "        return jsonify({\"error\": \"token or api_endpoint not provided\"})\n",
    "\n",
    "    # Optional Params for the astra call\n",
    "    table = params.get(\"tableName\", \"test\")\n",
    "    filter = params.get(\"filter\", None)\n",
    "    field_update = params.get(\"fieldUpdate\", 1)\n",
    "\n",
    "    # Call the vector find operation\n",
    "    astra_db = AstraDB(token=token, api_endpoint=api_endpoint)\n",
    "    astra_db_collection = astra_db.collection(table)\n",
    "    data = astra_db_collection.find_one_and_update(filter=filter, update=field_update)\n",
    "\n",
    "    return jsonify(data)\n",
    "\n",
    "\n",
    "@app.route(\"/deleteData\", methods=[\"POST\"])\n",
    "def delete_astra():\n",
    "    params = request.json\n",
    "\n",
    "    # Grab the Astra token and api endpoint from the environment\n",
    "    token = params.get(\"token\", DEFAULT_TOKEN)\n",
    "    api_endpoint = params.get(\"api_endpoint\", DEFAULT_API_ENDPOINT)\n",
    "\n",
    "    # Error out if we don't have the token or api_endpoint\n",
    "    if not token or not api_endpoint:\n",
    "        return jsonify({\"error\": \"token or api_endpoint not provided\"})\n",
    "\n",
    "    # Optional Params for the astra call\n",
    "    table = params.get(\"tableName\", \"test\")\n",
    "    filter = params.get(\"filter\", None)\n",
    "\n",
    "    # Call the vector find operation\n",
    "    astra_db = AstraDB(token=token, api_endpoint=api_endpoint)\n",
    "    astra_db_collection = astra_db.collection(table)\n",
    "    data = astra_db_collection.delete_many(filter=filter)\n",
    "\n",
    "    return jsonify(data)\n",
    "\n",
    "\n",
    "if __name__ == \"__main__\":\n",
    "    app.run(debug=True, host=\"0.0.0.0\", port=int(os.environ.get(\"PORT\", 8080)))"
   ]
  },
  {
   "cell_type": "code",
   "execution_count": 11,
   "metadata": {
    "id": "XjNmQHEtghL6"
   },
   "outputs": [
    {
     "name": "stdout",
     "output_type": "stream",
     "text": [
      "Overwriting astra-crud-extension/requirements.txt\n"
     ]
    }
   ],
   "source": [
    "%%writefile astra-crud-extension/requirements.txt\n",
    "Flask==3.0.1\n",
    "gunicorn==21.2.0\n",
    "astrapy==0.7.3\n",
    "google-cloud-secret-manager==2.17.0"
   ]
  },
  {
   "cell_type": "code",
   "execution_count": 12,
   "metadata": {
    "id": "zUCFlFr1ghL6"
   },
   "outputs": [
    {
     "name": "stdout",
     "output_type": "stream",
     "text": [
      "Overwriting astra-crud-extension/.dockerignore\n"
     ]
    }
   ],
   "source": [
    "%%writefile astra-crud-extension/.dockerignore\n",
    "Dockerfile\n",
    "README.md\n",
    "*.pyc\n",
    "*.pyo\n",
    "*.pyd\n",
    "__pycache__\n",
    ".pytest_cache"
   ]
  },
  {
   "cell_type": "markdown",
   "metadata": {
    "id": "raX4unoGuSEY"
   },
   "source": [
    "Next, you deploy the service to Cloud Run. However, you might need to log in once more to deploy."
   ]
  },
  {
   "cell_type": "code",
   "execution_count": 13,
   "metadata": {
    "id": "leotFWZxFUWd"
   },
   "outputs": [
    {
     "name": "stdout",
     "output_type": "stream",
     "text": [
      "Your browser has been opened to visit:\n",
      "\n",
      "    https://accounts.google.com/o/oauth2/auth?response_type=code&client_id=32555940559.apps.googleusercontent.com&redirect_uri=http%3A%2F%2Flocalhost%3A8085%2F&scope=openid+https%3A%2F%2Fwww.googleapis.com%2Fauth%2Fuserinfo.email+https%3A%2F%2Fwww.googleapis.com%2Fauth%2Fcloud-platform+https%3A%2F%2Fwww.googleapis.com%2Fauth%2Fappengine.admin+https%3A%2F%2Fwww.googleapis.com%2Fauth%2Fsqlservice.login+https%3A%2F%2Fwww.googleapis.com%2Fauth%2Fcompute+https%3A%2F%2Fwww.googleapis.com%2Fauth%2Faccounts.reauth&state=IFLJarX1eVRlslb6QFduXJJzjhSdQb&access_type=offline&code_challenge=IiQyCOMbr2dvrVprWJg3Zmwvo3UwxUBwu6p0mpETS9k&code_challenge_method=S256\n",
      "\n",
      "\n",
      "You are now logged in as [eric.hare@datastax.com].\n",
      "Your current project is [integrations-379317].  You can change this setting by running:\n",
      "  $ gcloud config set project PROJECT_ID\n"
     ]
    }
   ],
   "source": [
    "!gcloud auth login"
   ]
  },
  {
   "cell_type": "code",
   "execution_count": 14,
   "metadata": {
    "id": "2kXRKtqtghL6"
   },
   "outputs": [
    {
     "name": "stdout",
     "output_type": "stream",
     "text": [
      "Building and deploying...                                                      \n",
      "  . Uploading sources...                                                       \n",
      "  . Building Container...                                                      \n",
      "  . Creating Revision...                                                       \n",
      "  . Routing traffic...                                                         \n",
      "  . Setting IAM Policy...                                                      \n"
     ]
    }
   ],
   "source": [
    "!gcloud run deploy extension --region=us-central1 --allow-unauthenticated --source astra-crud-extension --no-user-output-enabled"
   ]
  },
  {
   "cell_type": "markdown",
   "metadata": {},
   "source": [
    "List the most recent Cloud Run service that was deployed, then you'll copy its URL to the next cell:"
   ]
  },
  {
   "cell_type": "code",
   "execution_count": 15,
   "metadata": {},
   "outputs": [
    {
     "name": "stdout",
     "output_type": "stream",
     "text": [
      "   SERVICE    REGION       URL                                        LAST DEPLOYED BY        LAST DEPLOYED AT\n",
      "\u001b[32m✔\u001b[39;0m  extension  us-central1  https://extension-we3tzahyyq-uc.a.run.app  eric.hare@datastax.com  2024-02-05T19:39:55.988232Z\n"
     ]
    }
   ],
   "source": [
    "!gcloud run services list | sort -k 3 | head -2"
   ]
  },
  {
   "cell_type": "code",
   "execution_count": 16,
   "metadata": {
    "id": "zccCypM1ghL6"
   },
   "outputs": [],
   "source": [
    "# @title Copy paste the output from the previous command here\n",
    "service_url = \"https://extension-we3tzahyyq-uc.a.run.app\"  # @param {type:\"string\"}"
   ]
  },
  {
   "cell_type": "markdown",
   "metadata": {
    "id": "WOmsbUSvghL7"
   },
   "source": [
    "### Create an OpenAPI spec\n",
    "\n",
    "Your Vertex Extension requires an OpenAPI 3.1 YAML file that defines routes, URL, HTTP methods, requests, and responses from your \"backend\" service. The following code creates a YAML file that you need to upload to your Cloud Storage bucket."
   ]
  },
  {
   "cell_type": "code",
   "execution_count": 18,
   "metadata": {
    "id": "S_HhQerxghL7"
   },
   "outputs": [
    {
     "name": "stdout",
     "output_type": "stream",
     "text": [
      "\n",
      "openapi: 3.1.0\n",
      "info:\n",
      "  title: Astra Vertex Extension\n",
      "  description: An extension to perform CRUD actions on data within your Astra Database.\n",
      "  version: 1.0.0\n",
      "servers:\n",
      "  - url: https://extension-we3tzahyyq-uc.a.run.app\n",
      "paths:\n",
      "  /readData:\n",
      "    get:\n",
      "      operationId: readData\n",
      "      summary: Search for data within the database\n",
      "      parameters:\n",
      "        - name: tableName\n",
      "          in: query\n",
      "          description: The name of the table to search\n",
      "          required: true\n",
      "          schema:\n",
      "            type: string\n",
      "        - name: filter\n",
      "          in: query\n",
      "          description: The filter to be applied to the search\n",
      "          required: true\n",
      "          schema:\n",
      "            type: object\n",
      "      responses:\n",
      "        '200':\n",
      "          description: Successful response\n",
      "          content:\n",
      "            application/json:\n",
      "              schema:\n",
      "                type: array\n",
      "                items:\n",
      "                  type: object\n",
      "  /updateData:\n",
      "    post:\n",
      "      operationId: updateData\n",
      "      summary: Update existing data within the database\n",
      "      requestBody:\n",
      "        required: true\n",
      "        content:\n",
      "          application/json:\n",
      "            schema:\n",
      "              type: object\n",
      "              properties:\n",
      "                tableName:\n",
      "                  type: string\n",
      "                filter:\n",
      "                  type: object\n",
      "                fieldUpdate:\n",
      "                  type: object\n",
      "      responses:\n",
      "        '200':\n",
      "          description: Data updated successfully\n",
      "          content:\n",
      "            application/json:\n",
      "              schema:\n",
      "                type: array\n",
      "                items:\n",
      "                  type: object\n",
      "  /insertData:\n",
      "    post:\n",
      "      operationId: insertData\n",
      "      summary: Insert new data into the database\n",
      "      requestBody:\n",
      "        required: true\n",
      "        content:\n",
      "          application/json:\n",
      "            schema:\n",
      "              type: object\n",
      "              properties:\n",
      "                tableName:\n",
      "                  type: string\n",
      "                data:\n",
      "                  type: object\n",
      "      responses:\n",
      "        '200':\n",
      "          description: Data inserted successfully\n",
      "          content:\n",
      "            application/json:\n",
      "              schema:\n",
      "                type: array\n",
      "                items:\n",
      "                  type: object\n",
      "  /deleteData:\n",
      "    delete:\n",
      "      operationId: deleteData\n",
      "      summary: Delete existing data within the database\n",
      "      parameters:\n",
      "        - name: tableName\n",
      "          in: query\n",
      "          description: The name of the table\n",
      "          required: true\n",
      "          schema:\n",
      "            type: string\n",
      "        - name: filter\n",
      "          in: query\n",
      "          description: The filter to be applied to the search\n",
      "          required: true\n",
      "          schema:\n",
      "            type: object\n",
      "      responses:\n",
      "        '200':\n",
      "          description: Data deleted successfully\n",
      "          content:\n",
      "            application/json:\n",
      "              schema:\n",
      "                type: array\n",
      "                items:\n",
      "                  type: object\n",
      "\n",
      "\n"
     ]
    }
   ],
   "source": [
    "if not os.path.exists(f\"{EXTENSION_PATH}-api\"):\n",
    "    os.mkdir(f\"{EXTENSION_PATH}-api\")\n",
    "\n",
    "openapi_yaml = f\"\"\"\n",
    "openapi: 3.1.0\n",
    "info:\n",
    "  title: Astra Vertex Extension\n",
    "  description: An extension to perform CRUD actions on data within your Astra Database.\n",
    "  version: 1.0.0\n",
    "servers:\n",
    "  - url: {service_url}\n",
    "paths:\n",
    "  /readData:\n",
    "    get:\n",
    "      operationId: readData\n",
    "      summary: Search for data within the database\n",
    "      parameters:\n",
    "        - name: tableName\n",
    "          in: query\n",
    "          description: The name of the table to search\n",
    "          required: true\n",
    "          schema:\n",
    "            type: string\n",
    "        - name: filter\n",
    "          in: query\n",
    "          description: The filter to be applied to the search\n",
    "          required: true\n",
    "          schema:\n",
    "            type: object\n",
    "      responses:\n",
    "        '200':\n",
    "          description: Successful response\n",
    "          content:\n",
    "            application/json:\n",
    "              schema:\n",
    "                type: array\n",
    "                items:\n",
    "                  type: object\n",
    "  /updateData:\n",
    "    post:\n",
    "      operationId: updateData\n",
    "      summary: Update existing data within the database\n",
    "      requestBody:\n",
    "        required: true\n",
    "        content:\n",
    "          application/json:\n",
    "            schema:\n",
    "              type: object\n",
    "              properties:\n",
    "                tableName:\n",
    "                  type: string\n",
    "                filter:\n",
    "                  type: object\n",
    "                fieldUpdate:\n",
    "                  type: object\n",
    "      responses:\n",
    "        '200':\n",
    "          description: Data updated successfully\n",
    "          content:\n",
    "            application/json:\n",
    "              schema:\n",
    "                type: array\n",
    "                items:\n",
    "                  type: object\n",
    "  /insertData:\n",
    "    post:\n",
    "      operationId: insertData\n",
    "      summary: Insert new data into the database\n",
    "      requestBody:\n",
    "        required: true\n",
    "        content:\n",
    "          application/json:\n",
    "            schema:\n",
    "              type: object\n",
    "              properties:\n",
    "                tableName:\n",
    "                  type: string\n",
    "                data:\n",
    "                  type: object\n",
    "      responses:\n",
    "        '200':\n",
    "          description: Data inserted successfully\n",
    "          content:\n",
    "            application/json:\n",
    "              schema:\n",
    "                type: array\n",
    "                items:\n",
    "                  type: object\n",
    "  /deleteData:\n",
    "    delete:\n",
    "      operationId: deleteData\n",
    "      summary: Delete existing data within the database\n",
    "      parameters:\n",
    "        - name: tableName\n",
    "          in: query\n",
    "          description: The name of the table\n",
    "          required: true\n",
    "          schema:\n",
    "            type: string\n",
    "        - name: filter\n",
    "          in: query\n",
    "          description: The filter to be applied to the search\n",
    "          required: true\n",
    "          schema:\n",
    "            type: object\n",
    "      responses:\n",
    "        '200':\n",
    "          description: Data deleted successfully\n",
    "          content:\n",
    "            application/json:\n",
    "              schema:\n",
    "                type: array\n",
    "                items:\n",
    "                  type: object\n",
    "\n",
    "\"\"\"\n",
    "\n",
    "print(openapi_yaml)"
   ]
  },
  {
   "cell_type": "code",
   "execution_count": 19,
   "metadata": {
    "id": "DjOGjGLighL7"
   },
   "outputs": [
    {
     "name": "stdout",
     "output_type": "stream",
     "text": [
      "Writing 'openapi_yaml' (str) to file 'astra-crud-extension-api/extension.yaml'.\n"
     ]
    }
   ],
   "source": [
    "%store openapi_yaml >astra-crud-extension-api/extension.yaml"
   ]
  },
  {
   "cell_type": "markdown",
   "metadata": {
    "id": "5bysxsgLghL7"
   },
   "source": [
    "Upload the OpenAPI YAML to your Cloud Storage bucket."
   ]
  },
  {
   "cell_type": "code",
   "execution_count": 20,
   "metadata": {
    "id": "z5PWKGnmghL7"
   },
   "outputs": [],
   "source": [
    "storage_client = storage.Client()\n",
    "bucket = storage_client.bucket(BUCKET_NAME)\n",
    "blob_name = f\"{EXTENSION_PATH}/extension.yaml\"\n",
    "blob = bucket.blob(blob_name)\n",
    "blob.upload_from_filename(f\"{EXTENSION_PATH}-api/extension.yaml\")"
   ]
  },
  {
   "cell_type": "markdown",
   "metadata": {
    "id": "o6DJJOt8ghL7"
   },
   "source": [
    "### Test the service locally using LangChain\n",
    "\n",
    "First, check that your service can accept simple HTTP `GET` requests:"
   ]
  },
  {
   "cell_type": "code",
   "execution_count": 21,
   "metadata": {
    "id": "Ju2KQKc7rNqi"
   },
   "outputs": [
    {
     "name": "stdout",
     "output_type": "stream",
     "text": [
      "https://extension-we3tzahyyq-uc.a.run.app/\n"
     ]
    }
   ],
   "source": [
    "url = f'{service_url}/'\n",
    "print(url)"
   ]
  },
  {
   "cell_type": "code",
   "execution_count": 22,
   "metadata": {
    "id": "82rwEauXghL8"
   },
   "outputs": [
    {
     "name": "stdout",
     "output_type": "stream",
     "text": [
      "https://extension-we3tzahyyq-uc.a.run.app/insertData\n",
      "Status Code: 200, Content: {\"status\":{\"insertedIds\":[\"6e18db84-8034-4b7a-8d26-f6763bab750f\"]}}\n",
      "\n"
     ]
    }
   ],
   "source": [
    "import requests\n",
    "import uuid\n",
    "\n",
    "doc = {\n",
    "    \"_id\": str(uuid.uuid4()),\n",
    "    \"name\": \"Coded Cleats Copy Test\",\n",
    "    \"description\": \"ChatGPT integrated sneakers that talk to you\",\n",
    "    \"$vector\": [0.25, 0.25, 0.25, 0.25, 0.25],\n",
    "}\n",
    "\n",
    "body_arguments = {\n",
    "    \"data\": doc,\n",
    "    \"tableName\": \"demo\",\n",
    "}\n",
    "\n",
    "print(url + \"insertData\")\n",
    "r = requests.post(url + \"insertData\", json=body_arguments)\n",
    "\n",
    "print(f\"Status Code: {r.status_code}, Content: {r.text}\")\n"
   ]
  },
  {
   "cell_type": "code",
   "execution_count": null,
   "metadata": {},
   "outputs": [],
   "source": [
    "body_arguments = {\n",
    "    \"tableName\": \"demo\",\n",
    "}\n",
    "\n",
    "print(url + \"readData\")\n",
    "r = requests.post(url + \"readData\", json=body_arguments)\n",
    "\n",
    "print(f\"Status Code: {r.status_code}, Content: {r.text}\")"
   ]
  },
  {
   "cell_type": "code",
   "execution_count": null,
   "metadata": {},
   "outputs": [],
   "source": [
    "body_arguments = {\n",
    "    \"tableName\": \"demo\",\n",
    "    \"fieldUpdate\": {\"$set\": {\"name\": \"Coded Cleats Copy Test Update\"}},\n",
    "}\n",
    "\n",
    "print(url + \"updateData\")\n",
    "r = requests.post(url + \"updateData\", json=body_arguments)\n",
    "\n",
    "print(f\"Status Code: {r.status_code}, Content: {r.text}\")"
   ]
  },
  {
   "cell_type": "code",
   "execution_count": null,
   "metadata": {},
   "outputs": [],
   "source": [
    "body_arguments = {\n",
    "    \"tableName\": \"demo\",\n",
    "    \"filter\": {\"name\": \"Coded Cleats Copy Test Update\"},\n",
    "}\n",
    "\n",
    "print(url + \"deleteData\")\n",
    "r = requests.post(url + \"deleteData\", json=body_arguments)\n",
    "\n",
    "print(f\"Status Code: {r.status_code}, Content: {r.text}\")"
   ]
  },
  {
   "cell_type": "code",
   "execution_count": null,
   "metadata": {},
   "outputs": [],
   "source": [
    "body_arguments = {\n",
    "    \"tableName\": \"demo\",\n",
    "}\n",
    "\n",
    "print(url + \"readData\")\n",
    "r = requests.post(url + \"readData\", json=body_arguments)\n",
    "\n",
    "print(f\"Status Code: {r.status_code}, Content: {r.text}\")"
   ]
  },
  {
   "cell_type": "markdown",
   "metadata": {
    "id": "WLkzvkdUghL8"
   },
   "source": [
    "## Creating and using a custom extension\n",
    "\n",
    "### Create the extension\n",
    "\n",
    "Now that you've set up the service to fulfill extension requests, you can create the extension itself.\n",
    "\n",
    "First, you'll define selection, invocation, and response examples:"
   ]
  },
  {
   "cell_type": "code",
   "execution_count": 23,
   "metadata": {
    "id": "NgPF-bEhghL8"
   },
   "outputs": [],
   "source": [
    "# Include multiple selection, invocation, and response examples for best results.\n",
    "extension_selection_examples = [{\n",
    "    \"query\": \"I want to learn about the products\",\n",
    "    \"multi_steps\": [{\n",
    "        \"thought\": \"I should call astra_tool for this\",\n",
    "        \"extension_execution\": {\n",
    "          \"operation_id\": \"readData\",\n",
    "          \"extension_instruction\": \"Describe the product that you want to learn about\",\n",
    "          \"observation\": \"Product descriptions come from the description field\"\n",
    "        }\n",
    "      },\n",
    "      {\n",
    "        \"thought\": \"Since the observation was successful, I should respond back to the user with results\",\n",
    "        \"respond_to_user\": {}\n",
    "      }],\n",
    "}]\n",
    "\n",
    "extension_invocation_examples = [{\n",
    "      \"extension_instruction\": \"Tell me about your product.\",\n",
    "      \"operation_id\": \"readData\",\n",
    "      \"thought\": \"Issue a readData operation request on hello_astra tool\",\n",
    "      \"operation_param\": \"{\\\"prompt\\\": \\\"Tell me about the product.\\\"}\",\n",
    "      \"parameters_mentioned\": [\"prompt\"]\n",
    "}]\n",
    "\n",
    "extension_response_examples = [{\n",
    "  \"operation_id\": \"readData\",\n",
    "  \"response_template\": \"{{ response }}\",\n",
    "}]"
   ]
  },
  {
   "cell_type": "markdown",
   "metadata": {},
   "source": [
    "Then, you'll create your extension and include the examples from the previous cell:"
   ]
  },
  {
   "cell_type": "code",
   "execution_count": 24,
   "metadata": {
    "id": "NgPF-bEhghL8"
   },
   "outputs": [
    {
     "name": "stdout",
     "output_type": "stream",
     "text": [
      "Creating Extension\n",
      "Create Extension backing LRO: projects/747469159044/locations/us-central1/extensions/429390076972105728/operations/2232479126642491392\n",
      "Extension created. Resource name: projects/747469159044/locations/us-central1/extensions/429390076972105728\n",
      "To use this Extension in another session:\n",
      "extension = aiplatform.Extension('projects/747469159044/locations/us-central1/extensions/429390076972105728')\n"
     ]
    },
    {
     "data": {
      "text/plain": [
       "<google.cloud.aiplatform.private_preview.llm_extension.extensions.Extension object at 0x293dadf10> \n",
       "resource name: projects/747469159044/locations/us-central1/extensions/429390076972105728"
      ]
     },
     "execution_count": 24,
     "metadata": {},
     "output_type": "execute_result"
    }
   ],
   "source": [
    "extension_astra = llm_extension.Extension.create(\n",
    "    display_name = \"Read Astra\",\n",
    "    description = \"Loads data from AstraDB and returns it to the user\",\n",
    "    manifest = {\n",
    "        \"name\": \"Astra CRUD Extension\",\n",
    "        \"description\": \"Access and process data from AstraDB\",\n",
    "        \"api_spec\": {\n",
    "            \"open_api_gcs_uri\": f\"gs://{BUCKET_NAME}/{EXTENSION_PATH}/extension.yaml\"\n",
    "        },\n",
    "        \"auth_config\": {\n",
    "            \"auth_type\": \"NO_AUTH\",\n",
    "        },\n",
    "        \"extension_selection_examples\": extension_selection_examples,\n",
    "        \"extension_invocation_examples\": extension_invocation_examples,\n",
    "        \"extension_response_examples\": extension_response_examples,\n",
    "    },\n",
    ")\n",
    "extension_astra"
   ]
  },
  {
   "cell_type": "markdown",
   "metadata": {},
   "source": [
    "Now that you've create your extension, let's confirm that it's registered:"
   ]
  },
  {
   "cell_type": "code",
   "execution_count": 25,
   "metadata": {
    "id": "0gQPqLe5aNiK"
   },
   "outputs": [
    {
     "name": "stdout",
     "output_type": "stream",
     "text": [
      "Name: projects/747469159044/locations/us-central1/extensions/429390076972105728\n",
      "Display Name: Read Astra\n",
      "Description: Loads data from AstraDB and returns it to the user\n",
      "{'name': 'projects/747469159044/locations/us-central1/extensions/429390076972105728', 'displayName': 'Read Astra', 'description': 'Loads data from AstraDB and returns it to the user', 'createTime': '2024-02-05T19:44:00.397388Z', 'updateTime': '2024-02-05T19:44:00.859025Z', 'manifest': {'name': 'Astra CRUD Extension', 'description': 'Access and process data from AstraDB', 'apiSpec': {'openApiGcsUri': 'gs://vai-bucket/astra-crud-extension/extension.yaml'}, 'authConfig': {'authType': 'NO_AUTH'}, 'extensionSelectionExamples': [{'query': 'I want to learn about the products', 'multiSteps': [{'thought': 'I should call astra_tool for this', 'extensionExecution': {'operationId': 'readData', 'extensionInstruction': 'Describe the product that you want to learn about', 'observation': 'Product descriptions come from the description field'}}, {'thought': 'Since the observation was successful, I should respond back to the user with results', 'respondToUser': {}}]}], 'extensionInvocationExamples': [{'extensionInstruction': 'Tell me about your product.', 'operationId': 'readData', 'thought': 'Issue a readData operation request on hello_astra tool', 'operationParam': '{\"prompt\": \"Tell me about the product.\"}', 'parametersMentioned': ['prompt']}], 'extensionResponseExamples': [{'operationId': 'readData', 'responseTemplate': '{{ response }}'}]}, 'extensionInfo': {}, 'extensionOperations': [{'operationId': 'readData'}, {'operationId': 'insertData'}, {'operationId': 'updateData'}, {'operationId': 'deleteData'}]}\n"
     ]
    }
   ],
   "source": [
    "print(\"Name:\", extension_astra.gca_resource.name)\n",
    "print(\"Display Name:\", extension_astra.display_name)\n",
    "print(\"Description:\", extension_astra.gca_resource.description)\n",
    "\n",
    "print(extension_astra.to_dict())"
   ]
  },
  {
   "cell_type": "markdown",
   "metadata": {},
   "source": [
    "And you can test the functionality of the extension by executing it:"
   ]
  },
  {
   "cell_type": "code",
   "execution_count": 27,
   "metadata": {},
   "outputs": [
    {
     "ename": "InvalidArgument",
     "evalue": "400 Unsupported operation `find_astra` in the Extension.",
     "output_type": "error",
     "traceback": [
      "\u001b[0;31m---------------------------------------------------------------------------\u001b[0m",
      "\u001b[0;31m_InactiveRpcError\u001b[0m                         Traceback (most recent call last)",
      "File \u001b[0;32m~/.pyenv/versions/3.11.6/lib/python3.11/site-packages/google/api_core/grpc_helpers.py:79\u001b[0m, in \u001b[0;36m_wrap_unary_errors.<locals>.error_remapped_callable\u001b[0;34m(*args, **kwargs)\u001b[0m\n\u001b[1;32m     78\u001b[0m \u001b[38;5;28;01mtry\u001b[39;00m:\n\u001b[0;32m---> 79\u001b[0m     \u001b[38;5;28;01mreturn\u001b[39;00m \u001b[43mcallable_\u001b[49m\u001b[43m(\u001b[49m\u001b[38;5;241;43m*\u001b[39;49m\u001b[43margs\u001b[49m\u001b[43m,\u001b[49m\u001b[43m \u001b[49m\u001b[38;5;241;43m*\u001b[39;49m\u001b[38;5;241;43m*\u001b[39;49m\u001b[43mkwargs\u001b[49m\u001b[43m)\u001b[49m\n\u001b[1;32m     80\u001b[0m \u001b[38;5;28;01mexcept\u001b[39;00m grpc\u001b[38;5;241m.\u001b[39mRpcError \u001b[38;5;28;01mas\u001b[39;00m exc:\n",
      "File \u001b[0;32m~/.pyenv/versions/3.11.6/lib/python3.11/site-packages/grpc/_channel.py:1160\u001b[0m, in \u001b[0;36m_UnaryUnaryMultiCallable.__call__\u001b[0;34m(self, request, timeout, metadata, credentials, wait_for_ready, compression)\u001b[0m\n\u001b[1;32m   1154\u001b[0m (\n\u001b[1;32m   1155\u001b[0m     state,\n\u001b[1;32m   1156\u001b[0m     call,\n\u001b[1;32m   1157\u001b[0m ) \u001b[38;5;241m=\u001b[39m \u001b[38;5;28mself\u001b[39m\u001b[38;5;241m.\u001b[39m_blocking(\n\u001b[1;32m   1158\u001b[0m     request, timeout, metadata, credentials, wait_for_ready, compression\n\u001b[1;32m   1159\u001b[0m )\n\u001b[0;32m-> 1160\u001b[0m \u001b[38;5;28;01mreturn\u001b[39;00m \u001b[43m_end_unary_response_blocking\u001b[49m\u001b[43m(\u001b[49m\u001b[43mstate\u001b[49m\u001b[43m,\u001b[49m\u001b[43m \u001b[49m\u001b[43mcall\u001b[49m\u001b[43m,\u001b[49m\u001b[43m \u001b[49m\u001b[38;5;28;43;01mFalse\u001b[39;49;00m\u001b[43m,\u001b[49m\u001b[43m \u001b[49m\u001b[38;5;28;43;01mNone\u001b[39;49;00m\u001b[43m)\u001b[49m\n",
      "File \u001b[0;32m~/.pyenv/versions/3.11.6/lib/python3.11/site-packages/grpc/_channel.py:1003\u001b[0m, in \u001b[0;36m_end_unary_response_blocking\u001b[0;34m(state, call, with_call, deadline)\u001b[0m\n\u001b[1;32m   1002\u001b[0m \u001b[38;5;28;01melse\u001b[39;00m:\n\u001b[0;32m-> 1003\u001b[0m     \u001b[38;5;28;01mraise\u001b[39;00m _InactiveRpcError(state)\n",
      "\u001b[0;31m_InactiveRpcError\u001b[0m: <_InactiveRpcError of RPC that terminated with:\n\tstatus = StatusCode.INVALID_ARGUMENT\n\tdetails = \"Unsupported operation `find_astra` in the Extension.\"\n\tdebug_error_string = \"UNKNOWN:Error received from peer ipv4:142.250.189.10:443 {grpc_message:\"Unsupported operation `find_astra` in the Extension.\", grpc_status:3, created_time:\"2024-02-05T12:44:29.565467-07:00\"}\"\n>",
      "\nThe above exception was the direct cause of the following exception:\n",
      "\u001b[0;31mInvalidArgument\u001b[0m                           Traceback (most recent call last)",
      "Cell \u001b[0;32mIn[27], line 1\u001b[0m\n\u001b[0;32m----> 1\u001b[0m \u001b[43mextension_astra\u001b[49m\u001b[38;5;241;43m.\u001b[39;49m\u001b[43mexecute\u001b[49m\u001b[43m(\u001b[49m\u001b[38;5;124;43m\"\u001b[39;49m\u001b[38;5;124;43mfind_astra\u001b[39;49m\u001b[38;5;124;43m\"\u001b[39;49m\u001b[43m,\u001b[49m\n\u001b[1;32m      2\u001b[0m \u001b[43m    \u001b[49m\u001b[43moperation_params\u001b[49m\u001b[43m \u001b[49m\u001b[38;5;241;43m=\u001b[39;49m\u001b[43m \u001b[49m\u001b[43m{\u001b[49m\u001b[43m}\u001b[49m\u001b[43m,\u001b[49m\u001b[43m  \u001b[49m\u001b[38;5;66;43;03m# TODO: Pass in vector or query!\u001b[39;49;00m\n\u001b[1;32m      3\u001b[0m \u001b[43m)\u001b[49m\n",
      "File \u001b[0;32m~/.pyenv/versions/3.11.6/lib/python3.11/site-packages/google/cloud/aiplatform/private_preview/llm_extension/extensions.py:231\u001b[0m, in \u001b[0;36mExtension.execute\u001b[0;34m(self, operation_id, operation_params, runtime_auth_config)\u001b[0m\n\u001b[1;32m    227\u001b[0m \u001b[38;5;28;01mif\u001b[39;00m runtime_auth_config:\n\u001b[1;32m    228\u001b[0m     request\u001b[38;5;241m.\u001b[39mruntime_auth_config \u001b[38;5;241m=\u001b[39m utils\u001b[38;5;241m.\u001b[39mto_proto(\n\u001b[1;32m    229\u001b[0m         runtime_auth_config, types\u001b[38;5;241m.\u001b[39mAuthConfig(),\n\u001b[1;32m    230\u001b[0m     )\n\u001b[0;32m--> 231\u001b[0m resp \u001b[38;5;241m=\u001b[39m \u001b[38;5;28;43mself\u001b[39;49m\u001b[38;5;241;43m.\u001b[39;49m\u001b[43mexecution_api_client\u001b[49m\u001b[38;5;241;43m.\u001b[39;49m\u001b[43mexecute_extension\u001b[49m\u001b[43m(\u001b[49m\u001b[43mrequest\u001b[49m\u001b[43m)\u001b[49m\n\u001b[1;32m    232\u001b[0m \u001b[38;5;28;01mreturn\u001b[39;00m utils\u001b[38;5;241m.\u001b[39mto_dict(resp)\n",
      "File \u001b[0;32m~/.pyenv/versions/3.11.6/lib/python3.11/site-packages/google/cloud/aiplatform/private_preview/llm_extension/gapic/services/extension_execution_service/client.py:500\u001b[0m, in \u001b[0;36mExtensionExecutionServiceClient.execute_extension\u001b[0;34m(self, request, name, operation_id, retry, timeout, metadata)\u001b[0m\n\u001b[1;32m    493\u001b[0m metadata \u001b[38;5;241m=\u001b[39m \u001b[38;5;28mtuple\u001b[39m(metadata) \u001b[38;5;241m+\u001b[39m (\n\u001b[1;32m    494\u001b[0m     gapic_v1\u001b[38;5;241m.\u001b[39mrouting_header\u001b[38;5;241m.\u001b[39mto_grpc_metadata((\n\u001b[1;32m    495\u001b[0m         (\u001b[38;5;124m\"\u001b[39m\u001b[38;5;124mname\u001b[39m\u001b[38;5;124m\"\u001b[39m, request\u001b[38;5;241m.\u001b[39mname),\n\u001b[1;32m    496\u001b[0m     )),\n\u001b[1;32m    497\u001b[0m )\n\u001b[1;32m    499\u001b[0m \u001b[38;5;66;03m# Send the request.\u001b[39;00m\n\u001b[0;32m--> 500\u001b[0m response \u001b[38;5;241m=\u001b[39m \u001b[43mrpc\u001b[49m\u001b[43m(\u001b[49m\n\u001b[1;32m    501\u001b[0m \u001b[43m    \u001b[49m\u001b[43mrequest\u001b[49m\u001b[43m,\u001b[49m\n\u001b[1;32m    502\u001b[0m \u001b[43m    \u001b[49m\u001b[43mretry\u001b[49m\u001b[38;5;241;43m=\u001b[39;49m\u001b[43mretry\u001b[49m\u001b[43m,\u001b[49m\n\u001b[1;32m    503\u001b[0m \u001b[43m    \u001b[49m\u001b[43mtimeout\u001b[49m\u001b[38;5;241;43m=\u001b[39;49m\u001b[43mtimeout\u001b[49m\u001b[43m,\u001b[49m\n\u001b[1;32m    504\u001b[0m \u001b[43m    \u001b[49m\u001b[43mmetadata\u001b[49m\u001b[38;5;241;43m=\u001b[39;49m\u001b[43mmetadata\u001b[49m\u001b[43m,\u001b[49m\n\u001b[1;32m    505\u001b[0m \u001b[43m\u001b[49m\u001b[43m)\u001b[49m\n\u001b[1;32m    507\u001b[0m \u001b[38;5;66;03m# Done; return the response.\u001b[39;00m\n\u001b[1;32m    508\u001b[0m \u001b[38;5;28;01mreturn\u001b[39;00m response\n",
      "File \u001b[0;32m~/.pyenv/versions/3.11.6/lib/python3.11/site-packages/google/api_core/gapic_v1/method.py:131\u001b[0m, in \u001b[0;36m_GapicCallable.__call__\u001b[0;34m(self, timeout, retry, compression, *args, **kwargs)\u001b[0m\n\u001b[1;32m    128\u001b[0m \u001b[38;5;28;01mif\u001b[39;00m \u001b[38;5;28mself\u001b[39m\u001b[38;5;241m.\u001b[39m_compression \u001b[38;5;129;01mis\u001b[39;00m \u001b[38;5;129;01mnot\u001b[39;00m \u001b[38;5;28;01mNone\u001b[39;00m:\n\u001b[1;32m    129\u001b[0m     kwargs[\u001b[38;5;124m\"\u001b[39m\u001b[38;5;124mcompression\u001b[39m\u001b[38;5;124m\"\u001b[39m] \u001b[38;5;241m=\u001b[39m compression\n\u001b[0;32m--> 131\u001b[0m \u001b[38;5;28;01mreturn\u001b[39;00m \u001b[43mwrapped_func\u001b[49m\u001b[43m(\u001b[49m\u001b[38;5;241;43m*\u001b[39;49m\u001b[43margs\u001b[49m\u001b[43m,\u001b[49m\u001b[43m \u001b[49m\u001b[38;5;241;43m*\u001b[39;49m\u001b[38;5;241;43m*\u001b[39;49m\u001b[43mkwargs\u001b[49m\u001b[43m)\u001b[49m\n",
      "File \u001b[0;32m~/.pyenv/versions/3.11.6/lib/python3.11/site-packages/google/api_core/grpc_helpers.py:81\u001b[0m, in \u001b[0;36m_wrap_unary_errors.<locals>.error_remapped_callable\u001b[0;34m(*args, **kwargs)\u001b[0m\n\u001b[1;32m     79\u001b[0m     \u001b[38;5;28;01mreturn\u001b[39;00m callable_(\u001b[38;5;241m*\u001b[39margs, \u001b[38;5;241m*\u001b[39m\u001b[38;5;241m*\u001b[39mkwargs)\n\u001b[1;32m     80\u001b[0m \u001b[38;5;28;01mexcept\u001b[39;00m grpc\u001b[38;5;241m.\u001b[39mRpcError \u001b[38;5;28;01mas\u001b[39;00m exc:\n\u001b[0;32m---> 81\u001b[0m     \u001b[38;5;28;01mraise\u001b[39;00m exceptions\u001b[38;5;241m.\u001b[39mfrom_grpc_error(exc) \u001b[38;5;28;01mfrom\u001b[39;00m \u001b[38;5;21;01mexc\u001b[39;00m\n",
      "\u001b[0;31mInvalidArgument\u001b[0m: 400 Unsupported operation `find_astra` in the Extension."
     ]
    }
   ],
   "source": [
    "extension_astra.execute(\"readData\",\n",
    "    operation_params = {},  # TODO: Pass in vector or query!\n",
    ")"
   ]
  },
  {
   "cell_type": "markdown",
   "metadata": {
    "id": "2HGiVjFSaNiL"
   },
   "source": [
    "### Create a controller\n",
    "\n",
    "The extension controller allows an application developer to specify which extensions to use.\n",
    "\n",
    "You'll create an extension controller that refers to the extension/tool that you created in the previous section:"
   ]
  },
  {
   "cell_type": "code",
   "execution_count": null,
   "metadata": {
    "id": "MSSqbpBpaNiL"
   },
   "outputs": [],
   "source": [
    "# Define the extensions controller service client\n",
    "client_options = {\"api_endpoint\": f\"{REGION}-aiplatform.googleapis.com\"}\n",
    "controller_client = llm_extension.extensions.services.extension_controller_service.client.ExtensionControllerServiceClient(\n",
    "    client_options=client_options)\n",
    "\n",
    "controller_spec = llm_extension.gapic.types.ExtensionControllerSpec()\n",
    "\n",
    "controller_req = llm_extension.gapic.types.ExtensionController()\n",
    "controller_req.display_name = \"Astra DB Extension Controller\"\n",
    "controller_req.description = \"Loads data from Astra DB\"\n",
    "controller_req.extension_controller_spec.extensions = [{\"extension\": extension_astra.resource_name}]\n",
    "\n",
    "parent = f\"projects/{PROJECT_ID}/locations/{REGION}\"\n",
    "\n",
    "controller_op = controller_client.create_extension_controller(\n",
    "    parent=f\"projects/{PROJECT_ID}/locations/{REGION}\",\n",
    "    extension_controller=controller_req\n",
    ")\n",
    "controller = controller_op.result(timeout=300)\n",
    "print(controller.name)"
   ]
  },
  {
   "cell_type": "markdown",
   "metadata": {
    "id": "OxReDvQ_aNiL"
   },
   "source": [
    "### Use the controller in a query\n",
    "\n",
    "Now that you have an extension and an extension controller, you can start using the controller to answer queries."
   ]
  },
  {
   "cell_type": "code",
   "execution_count": null,
   "metadata": {
    "id": "QgFGLmVQaNiL"
   },
   "outputs": [],
   "source": [
    "execution_client = llm_extension.extensions.services.extension_controller_execution_service.client.ExtensionControllerExecutionServiceClient(\n",
    "    client_options=client_options\n",
    ")\n",
    "\n",
    "req = {\n",
    "    \"query\": {\n",
    "        \"query\": \"Question: Tell me about the product?\",\n",
    "    },\n",
    "    \"name\": controller.name,\n",
    "}\n",
    "\n",
    "response = execution_client.query(req)\n",
    "\n",
    "print(response)"
   ]
  },
  {
   "cell_type": "markdown",
   "metadata": {
    "id": "TpV-iwP9qw9c",
    "tags": []
   },
   "source": [
    "## Cleaning up\n",
    "\n",
    "To clean up all Google Cloud resources used in this project, you can [delete the Google Cloud\n",
    "project](https://cloud.google.com/resource-manager/docs/creating-managing-projects#shutting_down_projects) you used for the tutorial.\n",
    "\n",
    "Otherwise, you can delete the individual resources you created in this tutorial:"
   ]
  },
  {
   "cell_type": "code",
   "execution_count": null,
   "metadata": {
    "id": "sx_vKniMq9ZX"
   },
   "outputs": [],
   "source": [
    "# Delete the controller\n",
    "# op = controller_client.delete_extension_controller(name=controller.name)\n",
    "# op.result()\n",
    "\n",
    "# Delete the extension\n",
    "# extension_astra.delete()\n",
    "\n",
    "# Delete Cloud Storage objects that were created\n",
    "#delete_bucket = False\n",
    "#if delete_bucket or os.getenv(\"IS_TESTING\"):\n",
    "#! gsutil -m rm -r $BUCKET_URI"
   ]
  }
 ],
 "metadata": {
  "colab": {
   "provenance": []
  },
  "environment": {
   "kernel": "conda-root-py",
   "name": "workbench-notebooks.m111",
   "type": "gcloud",
   "uri": "gcr.io/deeplearning-platform-release/workbench-notebooks:m111"
  },
  "kernelspec": {
   "display_name": "Python 3 (ipykernel)",
   "language": "python",
   "name": "python3"
  },
  "language_info": {
   "codemirror_mode": {
    "name": "ipython",
    "version": 3
   },
   "file_extension": ".py",
   "mimetype": "text/x-python",
   "name": "python",
   "nbconvert_exporter": "python",
   "pygments_lexer": "ipython3",
   "version": "3.11.6"
  }
 },
 "nbformat": 4,
 "nbformat_minor": 4
}
